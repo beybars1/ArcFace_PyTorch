{
 "cells": [
  {
   "cell_type": "code",
   "execution_count": 68,
   "metadata": {},
   "outputs": [],
   "source": [
    "import cv2\n",
    "import torch\n",
    "import numpy as np\n",
    "import os\n",
    "from torch.utils.data import Dataset, DataLoader\n",
    "from sklearn import preprocessing\n",
    "from torchvision import transforms as trans\n",
    "import itertools, random, copy, os\n",
    "from torchvision.datasets import ImageFolder\n",
    "from tqdm import tqdm\n",
    "from dataloader import DatasetValidation\n",
    "from models import Backbone\n",
    "import torch.nn.functional as F"
   ]
  },
  {
   "cell_type": "code",
   "execution_count": 2,
   "metadata": {},
   "outputs": [],
   "source": [
    "def create_pairs(id_list, path, k_pairs):\n",
    "    list_pairs = []\n",
    "    for id in id_list:\n",
    "        imgs_list = os.listdir(path+id)\n",
    "        if len(imgs_list)>1:\n",
    "            tmp = list(itertools.combinations(imgs_list, 2))\n",
    "            tmp = [((id+'/'+t[0], id+'/'+t[1]),  True) for t in tmp]\n",
    "            if len(tmp)>=k_pairs:\n",
    "                tmp = random.sample(tmp, k_pairs)\n",
    "            else:\n",
    "                tmp = random.sample(tmp, len(tmp))\n",
    "            list_pairs+=tmp\n",
    "        \n",
    "        copy_id_list = copy.copy(id_list)\n",
    "        copy_id_list.remove(id)\n",
    "        #random_id = random.choice(copy_id_list)\n",
    "        #random_id_imgs = os.listdir('./cropped_img_celeba/'+random_id)\n",
    "        tmp2 = []\n",
    "        for i in range(k_pairs):\n",
    "            random_id = random.choice(copy_id_list)\n",
    "            random_id_imgs = os.listdir(path+random_id)\n",
    "            rch_1 = random.choice(imgs_list)\n",
    "            rch_2 = random.choice(random_id_imgs)\n",
    "            tmp2.append(((id+'/'+rch_1, random_id+'/'+rch_2), False))\n",
    "        list_pairs+=tmp2\n",
    "    return list_pairs"
   ]
  },
  {
   "cell_type": "code",
   "execution_count": 3,
   "metadata": {},
   "outputs": [],
   "source": [
    "id_list = os.listdir('/data/beybars_id/img_data/cropped_alligned_val/')\n",
    "list_pairs = create_pairs(id_list, '/data/beybars_id/img_data/cropped_alligned_val/', 6)"
   ]
  },
  {
   "cell_type": "code",
   "execution_count": 5,
   "metadata": {},
   "outputs": [
    {
     "data": {
      "text/plain": [
       "240000"
      ]
     },
     "execution_count": 5,
     "metadata": {},
     "output_type": "execute_result"
    }
   ],
   "source": [
    "len(list_pairs)"
   ]
  },
  {
   "cell_type": "code",
   "execution_count": 8,
   "metadata": {},
   "outputs": [],
   "source": [
    "val_dataset = DatasetValidation(list_pairs, '/data/beybars_id/img_data/cropped_alligned_val/')\n",
    "val_dataloader = DataLoader(val_dataset, batch_size=256, shuffle=False, pin_memory=True, num_workers=2)"
   ]
  },
  {
   "cell_type": "code",
   "execution_count": 9,
   "metadata": {},
   "outputs": [],
   "source": [
    "a = next(iter(val_dataloader))"
   ]
  },
  {
   "cell_type": "code",
   "execution_count": 11,
   "metadata": {},
   "outputs": [
    {
     "data": {
      "text/plain": [
       "dict_keys(['IMG_1_NAME', 'IMG_1', 'IMG_2_NAME', 'IMG_2', 'isSame'])"
      ]
     },
     "execution_count": 11,
     "metadata": {},
     "output_type": "execute_result"
    }
   ],
   "source": [
    "a.keys()"
   ]
  },
  {
   "cell_type": "code",
   "execution_count": 19,
   "metadata": {},
   "outputs": [],
   "source": [
    "torch.cuda.set_device(3)"
   ]
  },
  {
   "cell_type": "code",
   "execution_count": 20,
   "metadata": {},
   "outputs": [
    {
     "data": {
      "text/plain": [
       "3"
      ]
     },
     "execution_count": 20,
     "metadata": {},
     "output_type": "execute_result"
    }
   ],
   "source": [
    "torch.cuda.current_device()"
   ]
  },
  {
   "cell_type": "code",
   "execution_count": null,
   "metadata": {},
   "outputs": [],
   "source": []
  },
  {
   "cell_type": "code",
   "execution_count": 23,
   "metadata": {},
   "outputs": [],
   "source": [
    "model = Backbone(50, 0.6, 'ir_se').to('cuda:3')"
   ]
  },
  {
   "cell_type": "code",
   "execution_count": 26,
   "metadata": {},
   "outputs": [],
   "source": [
    "snapshot = torch.load('./workspace/steps_models_save/model_2023-02-08-03-39_accuracy:0.9972624999999999_epoch:6_step:153300_None.pth',\n",
    "                      map_location='cuda:3')"
   ]
  },
  {
   "cell_type": "code",
   "execution_count": 29,
   "metadata": {},
   "outputs": [
    {
     "data": {
      "text/plain": [
       "<All keys matched successfully>"
      ]
     },
     "execution_count": 29,
     "metadata": {},
     "output_type": "execute_result"
    }
   ],
   "source": [
    "model.load_state_dict(snapshot['MODEL_STATE'])"
   ]
  },
  {
   "cell_type": "code",
   "execution_count": 51,
   "metadata": {
    "tags": []
   },
   "outputs": [
    {
     "name": "stdout",
     "output_type": "stream",
     "text": [
      "Validation...\n"
     ]
    },
    {
     "ename": "NameError",
     "evalue": "name 'nrof_folds' is not defined",
     "output_type": "error",
     "traceback": [
      "\u001b[0;31m---------------------------------------------------------------------------\u001b[0m",
      "\u001b[0;31mNameError\u001b[0m                                 Traceback (most recent call last)",
      "Cell \u001b[0;32mIn [51], line 25\u001b[0m\n\u001b[1;32m     22\u001b[0m embeddings_tensor_1 \u001b[38;5;241m=\u001b[39m torch\u001b[38;5;241m.\u001b[39mvstack(emb_list_1)\n\u001b[1;32m     23\u001b[0m embeddings_tensor_2 \u001b[38;5;241m=\u001b[39m torch\u001b[38;5;241m.\u001b[39mvstack(emb_list_2)\n\u001b[1;32m     24\u001b[0m TPR, TNR, FPR, FNR, accuracy, best_thresholds, tp, tn, fp, fn \u001b[38;5;241m=\u001b[39m evaluate_metrics(embeddings_tensor_1, embeddings_tensor_2,\\\n\u001b[0;32m---> 25\u001b[0m                                                                                  isSame_list, \u001b[38;5;124m'\u001b[39m\u001b[38;5;124meuclidean_dis\u001b[39m\u001b[38;5;124m'\u001b[39m, \u001b[43mnrof_folds\u001b[49m)\n\u001b[1;32m     26\u001b[0m \u001b[38;5;28;01mif\u001b[39;00m conf\u001b[38;5;241m.\u001b[39mdevice\u001b[38;5;241m==\u001b[39m\u001b[38;5;241m0\u001b[39m:\n\u001b[1;32m     27\u001b[0m     thresholds \u001b[38;5;241m=\u001b[39m np\u001b[38;5;241m.\u001b[39marange(\u001b[38;5;241m1\u001b[39m, \u001b[38;5;241m1.7\u001b[39m, \u001b[38;5;241m0.01\u001b[39m)\n",
      "\u001b[0;31mNameError\u001b[0m: name 'nrof_folds' is not defined"
     ]
    }
   ],
   "source": [
    "model.eval()\n",
    "print(\"Validation...\")\n",
    "emb_list_1 = []\n",
    "emb_list_2 = []\n",
    "isSame_list = []#################################################\n",
    "with torch.no_grad():\n",
    "    for val_batch in val_dataloader:\n",
    "        imgs_1 = val_batch['IMG_1']\n",
    "        imgs_2 = val_batch['IMG_2']\n",
    "        isSame = val_batch['isSame']\n",
    "        imgs_1 = imgs_1.to('cuda:3')\n",
    "        imgs_2 = imgs_2.to('cuda:3')\n",
    "        embeddings_1 = model(imgs_1)\n",
    "        embeddings_2 = model(imgs_2)\n",
    "        embeddings_normed_1 = F.normalize(embeddings_1)\n",
    "        embeddings_normed_2 = F.normalize(embeddings_2)\n",
    "        embeddings_normed_1 = embeddings_normed_1.detach().cpu()\n",
    "        embeddings_normed_2 = embeddings_normed_2.detach().cpu()\n",
    "        emb_list_1.append(embeddings_normed_1)\n",
    "        emb_list_2.append(embeddings_normed_2)\n",
    "        isSame_list+=isSame#################################################\n",
    "    embeddings_tensor_1 = torch.vstack(emb_list_1)\n",
    "    embeddings_tensor_2 = torch.vstack(emb_list_2)\n",
    "    "
   ]
  },
  {
   "cell_type": "code",
   "execution_count": 80,
   "metadata": {},
   "outputs": [],
   "source": [
    "import numpy as np\n",
    "from sklearn.model_selection import KFold\n",
    "from sklearn.decomposition import PCA\n",
    "import sklearn, torch\n",
    "from scipy import interpolate\n",
    "\n",
    "\n",
    "def calculate_roc(thresholds, embeddings_tensor_1, embeddings_tensor_2, isSame, sim_metric, nrof_folds):\n",
    "    assert(embeddings_tensor_1.shape[0] == embeddings_tensor_2.shape[0])\n",
    "    assert(embeddings_tensor_1.shape[1] == embeddings_tensor_2.shape[1])\n",
    "\n",
    "    nrof_pairs = len(isSame)\n",
    "    nrof_thresholds = len(thresholds)\n",
    "    #print(nrof_folds)\n",
    "    k_fold = KFold(n_splits=nrof_folds, shuffle=False)\n",
    "\n",
    "    tprs = np.zeros((nrof_folds, nrof_thresholds))\n",
    "    tnrs = np.zeros((nrof_folds, nrof_thresholds))\n",
    "    fprs = np.zeros((nrof_folds, nrof_thresholds))\n",
    "    fnrs = np.zeros((nrof_folds, nrof_thresholds))\n",
    "    \n",
    "    tp = np.zeros((nrof_folds, nrof_thresholds))\n",
    "    tn = np.zeros((nrof_folds, nrof_thresholds))\n",
    "    fp = np.zeros((nrof_folds, nrof_thresholds))\n",
    "    fn = np.zeros((nrof_folds, nrof_thresholds))\n",
    "    \n",
    "    accuracy_test = np.zeros((nrof_folds))\n",
    "    accuracy_train = np.zeros((nrof_folds, nrof_thresholds)) #################################################\n",
    "    best_thresholds = np.zeros((nrof_folds))\n",
    "    indices = np.arange(nrof_pairs)\n",
    "\n",
    "    if sim_metric=='cosine_sim':\n",
    "        cos_sim = np.dot(embeddings_tensor_1, embeddings_tensor_2)\n",
    "    elif sim_metric=='euclidean_dis':\n",
    "        diff = np.subtract(embeddings_tensor_1, embeddings_tensor_2)\n",
    "        dist = np.square(diff).sum(axis=1)\n",
    "    \n",
    "    for fold_idx, (train_set, test_set) in enumerate(k_fold.split(indices)):\n",
    "        # Find the best threshold for the fold\n",
    "        for threshold_idx, threshold in enumerate(thresholds):\n",
    "            _, _, _, _, accuracy_train[fold_idx, threshold_idx], _ = calculate_accuracy(threshold, dist[train_set], isSame[train_set])\n",
    "        #best_threshold_index = np.argmax(accuracy_train)\n",
    "        best_threshold_index = np.argmax(accuracy_train[fold_idx])\n",
    "        best_thresholds[fold_idx] = thresholds[best_threshold_index]\n",
    "        for threshold_idx, threshold in enumerate(thresholds):\n",
    "            tprs[fold_idx, threshold_idx], tnrs[fold_idx, threshold_idx],\\\n",
    "            fprs[fold_idx, threshold_idx], fnrs[fold_idx, threshold_idx], _, conf_mat = calculate_accuracy(threshold,\\\n",
    "                                                                                                dist[test_set],\\\n",
    "                                                                                                isSame[test_set])\n",
    "            tp[fold_idx, threshold_idx] = conf_mat[0]\n",
    "            tn[fold_idx, threshold_idx] = conf_mat[1]\n",
    "            fp[fold_idx, threshold_idx] = conf_mat[2]\n",
    "            fn[fold_idx, threshold_idx] = conf_mat[3]\n",
    "            \n",
    "        _, _, _, _, accuracy_test[fold_idx], _ = calculate_accuracy(thresholds[best_threshold_index],\\\n",
    "                                                                            dist[test_set],\\\n",
    "                                                                            isSame[test_set])\n",
    "    tpr = np.mean(tprs, 0)\n",
    "    tnr = np.mean(tnrs, 0)\n",
    "    fpr = np.mean(fprs, 0)\n",
    "    fnr = np.mean(fnrs, 0)\n",
    "    \n",
    "    tp = np.mean(tp, 0)\n",
    "    tn = np.mean(tn, 0)\n",
    "    fp = np.mean(fp, 0)\n",
    "    fn = np.mean(fn, 0)\n",
    "    \n",
    "    return tpr, tnr, fpr, fnr, accuracy_test, best_thresholds, tp, tn, fp, fn\n",
    "\n",
    "\n",
    "def calculate_accuracy(threshold, dist, actual_issame):\n",
    "    predict_issame = np.less(dist, threshold)\n",
    "    predict_issame_bool = predict_issame.clone().detach().numpy()\n",
    "\n",
    "    # print(predict_issame[:5])\n",
    "    # print()\n",
    "    # print(actual_issame[:5])\n",
    "    TP = np.sum(np.logical_and(predict_issame_bool, actual_issame))\n",
    "    FP = np.sum(np.logical_and(predict_issame_bool, np.logical_not(actual_issame)))\n",
    "    TN = np.sum(np.logical_and(np.logical_not(predict_issame_bool), np.logical_not(actual_issame)))\n",
    "    FN = np.sum(np.logical_and(np.logical_not(predict_issame_bool), actual_issame))\n",
    "    \n",
    "    TPR = 0 if (TP + FN == 0) else float(TP) / float(TP + FN)\n",
    "    TNR = 0 if (TN + FP == 0) else float(TN) / float(TN + FP)\n",
    "    FPR = 0 if (FP + TN == 0) else float(FP) / float(FP + TN)\n",
    "    FNR = 0 if (FN + TP == 0) else float(FN) / float(FN + TP)\n",
    "    acc = float(TP + TN)/dist.shape[0]\n",
    "    return TPR, TNR, FPR, FNR, acc, (TP, TN, FP, FN)\n",
    "\n",
    "\n",
    "def calculate_val(thresholds, embeddings1, embeddings2, actual_issame, far_target, nrof_folds=10):\n",
    "    '''\n",
    "    Copy from [insightface](https://github.com/deepinsight/insightface)\n",
    "    :param thresholds:\n",
    "    :param embeddings1:\n",
    "    :param embeddings2:\n",
    "    :param actual_issame:\n",
    "    :param far_target:\n",
    "    :param nrof_folds:\n",
    "    :return:\n",
    "    '''\n",
    "    assert (embeddings1.shape[0] == embeddings2.shape[0])\n",
    "    assert (embeddings1.shape[1] == embeddings2.shape[1])\n",
    "    nrof_pairs = min(len(actual_issame), embeddings1.shape[0])\n",
    "    nrof_thresholds = len(thresholds)\n",
    "    k_fold = KFold(n_splits=nrof_folds, shuffle=False)\n",
    "\n",
    "    val = np.zeros(nrof_folds)\n",
    "    far = np.zeros(nrof_folds)\n",
    "\n",
    "    diff = np.subtract(embeddings1, embeddings2)\n",
    "    dist = np.sum(np.square(diff), 1)\n",
    "    indices = np.arange(nrof_pairs)\n",
    "\n",
    "    for fold_idx, (train_set, test_set) in enumerate(k_fold.split(indices)):\n",
    "\n",
    "        # Find the threshold that gives FAR = far_target\n",
    "        far_train = np.zeros(nrof_thresholds)\n",
    "        for threshold_idx, threshold in enumerate(thresholds):\n",
    "            _, far_train[threshold_idx] = calculate_val_far(threshold, dist[train_set], actual_issame[train_set])\n",
    "        if np.max(far_train) >= far_target:\n",
    "            f = interpolate.interp1d(far_train, thresholds, kind='slinear')\n",
    "            threshold = f(far_target)\n",
    "        else:\n",
    "            threshold = 0.0\n",
    "\n",
    "        val[fold_idx], far[fold_idx] = calculate_val_far(threshold, dist[test_set], actual_issame[test_set])\n",
    "\n",
    "    val_mean = np.mean(val)\n",
    "    far_mean = np.mean(far)\n",
    "    val_std = np.std(val)\n",
    "    return val_mean, val_std, far_mean\n",
    "\n",
    "\n",
    "def calculate_val_far(threshold, dist, actual_issame):\n",
    "    predict_issame = np.less(dist, threshold)\n",
    "    torch.tensor(a, dtype=torch.bool)\n",
    "    true_accept = np.sum(np.logical_and(predict_issame, actual_issame))\n",
    "    false_accept = np.sum(np.logical_and(predict_issame, np.logical_not(actual_issame)))\n",
    "    n_same = np.sum(actual_issame)\n",
    "    n_diff = np.sum(np.logical_not(actual_issame))\n",
    "    val = float(true_accept) / float(n_same)\n",
    "    far = float(false_accept) / float(n_diff)\n",
    "    return val, far\n",
    "\n",
    "\n",
    "def evaluate_metrics(embeddings_tensor_1, embeddings_tensor_2, isSame, sim_metric, nrof_folds=5):\n",
    "    thresholds = np.arange(0, 4, 0.01)\n",
    "    tpr, tnr, fpr, fnr, accuracy_test, best_thresholds, tp, tn, fp, fn = calculate_roc(thresholds,\\\n",
    "                                                                                   embeddings_tensor_1,\\\n",
    "                                                                                   embeddings_tensor_2,\\\n",
    "                                                                                   np.asarray(isSame),\\\n",
    "                                                                                   sim_metric,\\\n",
    "                                                                                   nrof_folds=nrof_folds\n",
    "                                                                                  )\n",
    "    return tpr, tnr, fpr, fnr, accuracy_test, best_thresholds, tp, tn, fp, fn"
   ]
  },
  {
   "cell_type": "code",
   "execution_count": 81,
   "metadata": {},
   "outputs": [],
   "source": [
    "TPR, TNR, FPR, FNR, accuracy, best_thresholds, tp, tn, fp, fn = evaluate_metrics(embeddings_tensor_1, embeddings_tensor_2,\\\n",
    "                                                                                     isSame_list, 'euclidean_dis', 3)\n"
   ]
  },
  {
   "cell_type": "code",
   "execution_count": 82,
   "metadata": {},
   "outputs": [
    {
     "name": "stdout",
     "output_type": "stream",
     "text": [
      "threshold:1.47,\n",
      " precision:0.9996902806726768,\n",
      " recall:0.9952166666666666,\n",
      " fraud_det:0.9996916666666666\n",
      "\n",
      "threshold:1.48,\n",
      " precision:0.9996233647753998,\n",
      " recall:0.9952833333333334,\n",
      " fraud_det:0.999625\n",
      "\n",
      "threshold:1.48,\n",
      " precision:0.9996233647753998,\n",
      " recall:0.9952833333333334,\n",
      " fraud_det:0.999625\n",
      "\n",
      "0.0018355908013004598\n"
     ]
    }
   ],
   "source": [
    "thresholds = np.arange(0, 4, 0.01)\n",
    "for thr in best_thresholds:\n",
    "    indx=np.where(thresholds == thr)\n",
    "    ind = indx[0].item()\n",
    "    precision = tp[ind]/(tp[ind]+fp[ind])\n",
    "    recall = tp[ind]/(tp[ind]+fn[ind])\n",
    "    fraud = tn[ind]/(tn[ind]+fp[ind])\n",
    "    print('threshold:{},\\n precision:{},\\n recall:{},\\n fraud_det:{}'.format(thr, precision, recall, fraud))\n",
    "    print()\n",
    "from sklearn import metrics\n",
    "auc_roc = metrics.auc(TPR, FPR)\n",
    "print(auc_roc)"
   ]
  },
  {
   "cell_type": "code",
   "execution_count": 83,
   "metadata": {
    "collapsed": true,
    "jupyter": {
     "outputs_hidden": true
    },
    "tags": []
   },
   "outputs": [
    {
     "data": {
      "text/plain": [
       "array([0.00000000e+00, 0.00000000e+00, 0.00000000e+00, 0.00000000e+00,\n",
       "       0.00000000e+00, 0.00000000e+00, 0.00000000e+00, 0.00000000e+00,\n",
       "       0.00000000e+00, 0.00000000e+00, 0.00000000e+00, 0.00000000e+00,\n",
       "       0.00000000e+00, 0.00000000e+00, 0.00000000e+00, 0.00000000e+00,\n",
       "       0.00000000e+00, 0.00000000e+00, 0.00000000e+00, 0.00000000e+00,\n",
       "       0.00000000e+00, 0.00000000e+00, 0.00000000e+00, 0.00000000e+00,\n",
       "       0.00000000e+00, 0.00000000e+00, 0.00000000e+00, 0.00000000e+00,\n",
       "       0.00000000e+00, 0.00000000e+00, 0.00000000e+00, 0.00000000e+00,\n",
       "       0.00000000e+00, 0.00000000e+00, 0.00000000e+00, 0.00000000e+00,\n",
       "       0.00000000e+00, 0.00000000e+00, 0.00000000e+00, 0.00000000e+00,\n",
       "       0.00000000e+00, 0.00000000e+00, 0.00000000e+00, 0.00000000e+00,\n",
       "       0.00000000e+00, 0.00000000e+00, 0.00000000e+00, 0.00000000e+00,\n",
       "       0.00000000e+00, 0.00000000e+00, 0.00000000e+00, 0.00000000e+00,\n",
       "       0.00000000e+00, 0.00000000e+00, 0.00000000e+00, 0.00000000e+00,\n",
       "       0.00000000e+00, 0.00000000e+00, 0.00000000e+00, 0.00000000e+00,\n",
       "       0.00000000e+00, 0.00000000e+00, 0.00000000e+00, 0.00000000e+00,\n",
       "       0.00000000e+00, 0.00000000e+00, 0.00000000e+00, 0.00000000e+00,\n",
       "       0.00000000e+00, 0.00000000e+00, 0.00000000e+00, 0.00000000e+00,\n",
       "       0.00000000e+00, 0.00000000e+00, 0.00000000e+00, 0.00000000e+00,\n",
       "       0.00000000e+00, 0.00000000e+00, 0.00000000e+00, 0.00000000e+00,\n",
       "       0.00000000e+00, 0.00000000e+00, 0.00000000e+00, 0.00000000e+00,\n",
       "       0.00000000e+00, 0.00000000e+00, 0.00000000e+00, 0.00000000e+00,\n",
       "       0.00000000e+00, 0.00000000e+00, 0.00000000e+00, 0.00000000e+00,\n",
       "       0.00000000e+00, 0.00000000e+00, 0.00000000e+00, 0.00000000e+00,\n",
       "       0.00000000e+00, 0.00000000e+00, 0.00000000e+00, 0.00000000e+00,\n",
       "       0.00000000e+00, 0.00000000e+00, 0.00000000e+00, 0.00000000e+00,\n",
       "       0.00000000e+00, 0.00000000e+00, 0.00000000e+00, 0.00000000e+00,\n",
       "       0.00000000e+00, 0.00000000e+00, 0.00000000e+00, 0.00000000e+00,\n",
       "       0.00000000e+00, 0.00000000e+00, 0.00000000e+00, 0.00000000e+00,\n",
       "       0.00000000e+00, 0.00000000e+00, 0.00000000e+00, 0.00000000e+00,\n",
       "       0.00000000e+00, 0.00000000e+00, 0.00000000e+00, 0.00000000e+00,\n",
       "       0.00000000e+00, 0.00000000e+00, 0.00000000e+00, 0.00000000e+00,\n",
       "       0.00000000e+00, 0.00000000e+00, 0.00000000e+00, 0.00000000e+00,\n",
       "       1.66658334e-05, 1.66658334e-05, 2.49995834e-05, 3.33333334e-05,\n",
       "       3.33333334e-05, 3.33333334e-05, 4.16670834e-05, 4.16670834e-05,\n",
       "       5.83341668e-05, 9.16687502e-05, 1.08335417e-04, 1.41668334e-04,\n",
       "       1.50001250e-04, 1.91669167e-04, 2.50002917e-04, 3.08336250e-04,\n",
       "       3.75001667e-04, 4.83334584e-04, 5.66666251e-04, 7.00002085e-04,\n",
       "       8.16669168e-04, 1.01666750e-03, 1.20833209e-03, 1.46666709e-03,\n",
       "       1.75833417e-03, 2.16666500e-03, 2.70000000e-03, 3.26666751e-03,\n",
       "       3.97499751e-03, 4.97499918e-03, 6.10833001e-03, 7.46666793e-03,\n",
       "       9.08333418e-03, 1.08083279e-02, 1.28166504e-02, 1.49083109e-02,\n",
       "       1.75333117e-02, 2.03249750e-02, 2.35416342e-02, 2.74916450e-02,\n",
       "       3.21416246e-02, 3.72166176e-02, 4.29499538e-02, 4.97582947e-02,\n",
       "       5.69332988e-02, 6.51082980e-02, 7.38583018e-02, 8.42833093e-02,\n",
       "       9.51833218e-02, 1.07124993e-01, 1.20125001e-01, 1.33650008e-01,\n",
       "       1.48658346e-01, 1.64758337e-01, 1.82366683e-01, 2.00891674e-01,\n",
       "       2.19999992e-01, 2.40058344e-01, 2.61341698e-01, 2.84400011e-01,\n",
       "       3.08366636e-01, 3.32041591e-01, 3.57133252e-01, 3.82749927e-01,\n",
       "       4.08666605e-01, 4.34424942e-01, 4.61508286e-01, 4.88224936e-01,\n",
       "       5.14366615e-01, 5.41583309e-01, 5.68041651e-01, 5.94983348e-01,\n",
       "       6.21483351e-01, 6.47625028e-01, 6.72900029e-01, 6.96900007e-01,\n",
       "       7.20558345e-01, 7.43425011e-01, 7.65124992e-01, 7.85291678e-01,\n",
       "       8.05366686e-01, 8.23458397e-01, 8.41166713e-01, 8.57533373e-01,\n",
       "       8.72525021e-01, 8.86175021e-01, 8.98933356e-01, 9.10700010e-01,\n",
       "       9.21083320e-01, 9.31074979e-01, 9.39591637e-01, 9.47083303e-01,\n",
       "       9.54533309e-01, 9.60833309e-01, 9.66183316e-01, 9.71274980e-01,\n",
       "       9.75516641e-01, 9.79216649e-01, 9.82549995e-01, 9.85299990e-01,\n",
       "       9.87999989e-01, 9.90141650e-01, 9.91766650e-01, 9.93308319e-01,\n",
       "       9.94549990e-01, 9.95583327e-01, 9.96416661e-01, 9.97158330e-01,\n",
       "       9.97591659e-01, 9.98066660e-01, 9.98408325e-01, 9.98716660e-01,\n",
       "       9.98974997e-01, 9.99241665e-01, 9.99383329e-01, 9.99533331e-01,\n",
       "       9.99649997e-01, 9.99724998e-01, 9.99808333e-01, 9.99858333e-01,\n",
       "       9.99891666e-01, 9.99908333e-01, 9.99925000e-01, 9.99949999e-01,\n",
       "       9.99966667e-01, 9.99983333e-01, 9.99983333e-01, 9.99983333e-01,\n",
       "       9.99983333e-01, 9.99991667e-01, 9.99991667e-01, 9.99991667e-01,\n",
       "       1.00000000e+00, 1.00000000e+00, 1.00000000e+00, 1.00000000e+00,\n",
       "       1.00000000e+00, 1.00000000e+00, 1.00000000e+00, 1.00000000e+00,\n",
       "       1.00000000e+00, 1.00000000e+00, 1.00000000e+00, 1.00000000e+00,\n",
       "       1.00000000e+00, 1.00000000e+00, 1.00000000e+00, 1.00000000e+00,\n",
       "       1.00000000e+00, 1.00000000e+00, 1.00000000e+00, 1.00000000e+00,\n",
       "       1.00000000e+00, 1.00000000e+00, 1.00000000e+00, 1.00000000e+00,\n",
       "       1.00000000e+00, 1.00000000e+00, 1.00000000e+00, 1.00000000e+00,\n",
       "       1.00000000e+00, 1.00000000e+00, 1.00000000e+00, 1.00000000e+00,\n",
       "       1.00000000e+00, 1.00000000e+00, 1.00000000e+00, 1.00000000e+00,\n",
       "       1.00000000e+00, 1.00000000e+00, 1.00000000e+00, 1.00000000e+00,\n",
       "       1.00000000e+00, 1.00000000e+00, 1.00000000e+00, 1.00000000e+00,\n",
       "       1.00000000e+00, 1.00000000e+00, 1.00000000e+00, 1.00000000e+00,\n",
       "       1.00000000e+00, 1.00000000e+00, 1.00000000e+00, 1.00000000e+00,\n",
       "       1.00000000e+00, 1.00000000e+00, 1.00000000e+00, 1.00000000e+00,\n",
       "       1.00000000e+00, 1.00000000e+00, 1.00000000e+00, 1.00000000e+00,\n",
       "       1.00000000e+00, 1.00000000e+00, 1.00000000e+00, 1.00000000e+00,\n",
       "       1.00000000e+00, 1.00000000e+00, 1.00000000e+00, 1.00000000e+00,\n",
       "       1.00000000e+00, 1.00000000e+00, 1.00000000e+00, 1.00000000e+00,\n",
       "       1.00000000e+00, 1.00000000e+00, 1.00000000e+00, 1.00000000e+00,\n",
       "       1.00000000e+00, 1.00000000e+00, 1.00000000e+00, 1.00000000e+00,\n",
       "       1.00000000e+00, 1.00000000e+00, 1.00000000e+00, 1.00000000e+00,\n",
       "       1.00000000e+00, 1.00000000e+00, 1.00000000e+00, 1.00000000e+00,\n",
       "       1.00000000e+00, 1.00000000e+00, 1.00000000e+00, 1.00000000e+00,\n",
       "       1.00000000e+00, 1.00000000e+00, 1.00000000e+00, 1.00000000e+00,\n",
       "       1.00000000e+00, 1.00000000e+00, 1.00000000e+00, 1.00000000e+00,\n",
       "       1.00000000e+00, 1.00000000e+00, 1.00000000e+00, 1.00000000e+00,\n",
       "       1.00000000e+00, 1.00000000e+00, 1.00000000e+00, 1.00000000e+00,\n",
       "       1.00000000e+00, 1.00000000e+00, 1.00000000e+00, 1.00000000e+00,\n",
       "       1.00000000e+00, 1.00000000e+00, 1.00000000e+00, 1.00000000e+00,\n",
       "       1.00000000e+00, 1.00000000e+00, 1.00000000e+00, 1.00000000e+00,\n",
       "       1.00000000e+00, 1.00000000e+00, 1.00000000e+00, 1.00000000e+00,\n",
       "       1.00000000e+00, 1.00000000e+00, 1.00000000e+00, 1.00000000e+00,\n",
       "       1.00000000e+00, 1.00000000e+00, 1.00000000e+00, 1.00000000e+00,\n",
       "       1.00000000e+00, 1.00000000e+00, 1.00000000e+00, 1.00000000e+00])"
      ]
     },
     "execution_count": 83,
     "metadata": {},
     "output_type": "execute_result"
    }
   ],
   "source": [
    "FPR"
   ]
  },
  {
   "cell_type": "code",
   "execution_count": 84,
   "metadata": {
    "collapsed": true,
    "jupyter": {
     "outputs_hidden": true
    },
    "tags": []
   },
   "outputs": [
    {
     "data": {
      "text/plain": [
       "array([0.00000000e+00, 6.66670834e-05, 6.66670834e-05, 6.66670834e-05,\n",
       "       6.66670834e-05, 8.33337501e-05, 8.33337501e-05, 1.08333750e-04,\n",
       "       1.58334167e-04, 2.74997500e-04, 3.91664167e-04, 6.16660418e-04,\n",
       "       9.08323751e-04, 1.25832292e-03, 1.87499334e-03, 2.69999417e-03,\n",
       "       3.75833334e-03, 5.03333042e-03, 6.59999376e-03, 8.63333085e-03,\n",
       "       1.10916659e-02, 1.43916717e-02, 1.84666792e-02, 2.35750121e-02,\n",
       "       2.93416842e-02, 3.62750380e-02, 4.43333509e-02, 5.34750105e-02,\n",
       "       6.39333443e-02, 7.58750060e-02, 8.91500251e-02, 1.03825038e-01,\n",
       "       1.19891727e-01, 1.37041730e-01, 1.55708414e-01, 1.75150086e-01,\n",
       "       1.95708432e-01, 2.17675114e-01, 2.40950094e-01, 2.64766776e-01,\n",
       "       2.88766791e-01, 3.13341796e-01, 3.38625118e-01, 3.62908434e-01,\n",
       "       3.87725090e-01, 4.13191772e-01, 4.38541806e-01, 4.63641817e-01,\n",
       "       4.88566831e-01, 5.12183490e-01, 5.35358474e-01, 5.58041805e-01,\n",
       "       5.80591810e-01, 6.02566793e-01, 6.23558449e-01, 6.43741771e-01,\n",
       "       6.63275120e-01, 6.82383451e-01, 7.00891798e-01, 7.18025148e-01,\n",
       "       7.34125137e-01, 7.50016782e-01, 7.64333458e-01, 7.78466770e-01,\n",
       "       7.91491773e-01, 8.03875103e-01, 8.15866775e-01, 8.27141776e-01,\n",
       "       8.37433452e-01, 8.47416779e-01, 8.56266764e-01, 8.64941753e-01,\n",
       "       8.73058419e-01, 8.80758421e-01, 8.87725102e-01, 8.94583423e-01,\n",
       "       9.01108422e-01, 9.07283432e-01, 9.12766762e-01, 9.18575094e-01,\n",
       "       9.23908419e-01, 9.28425089e-01, 9.32591751e-01, 9.36500084e-01,\n",
       "       9.40266743e-01, 9.43975065e-01, 9.47116724e-01, 9.50075057e-01,\n",
       "       9.53100052e-01, 9.55866721e-01, 9.58366710e-01, 9.61025045e-01,\n",
       "       9.63125044e-01, 9.65116702e-01, 9.67383371e-01, 9.69358362e-01,\n",
       "       9.70875023e-01, 9.72425021e-01, 9.73883355e-01, 9.75233352e-01,\n",
       "       9.76725017e-01, 9.78033350e-01, 9.79391692e-01, 9.80475022e-01,\n",
       "       9.81575021e-01, 9.82500015e-01, 9.83316687e-01, 9.84225017e-01,\n",
       "       9.84816687e-01, 9.85658352e-01, 9.86316685e-01, 9.86975022e-01,\n",
       "       9.87558352e-01, 9.88083349e-01, 9.88616682e-01, 9.89141684e-01,\n",
       "       9.89591682e-01, 9.90008351e-01, 9.90433349e-01, 9.90783346e-01,\n",
       "       9.91125012e-01, 9.91450012e-01, 9.91758348e-01, 9.92000017e-01,\n",
       "       9.92225021e-01, 9.92516688e-01, 9.92691686e-01, 9.92941686e-01,\n",
       "       9.93100019e-01, 9.93341683e-01, 9.93525017e-01, 9.93675018e-01,\n",
       "       9.93866686e-01, 9.94000020e-01, 9.94091687e-01, 9.94191685e-01,\n",
       "       9.94300016e-01, 9.94383349e-01, 9.94466682e-01, 9.94591681e-01,\n",
       "       9.94691678e-01, 9.94766677e-01, 9.94858343e-01, 9.94933344e-01,\n",
       "       9.94975012e-01, 9.95033344e-01, 9.95091677e-01, 9.95216676e-01,\n",
       "       9.95283342e-01, 9.95358342e-01, 9.95383342e-01, 9.95408343e-01,\n",
       "       9.95475010e-01, 9.95500011e-01, 9.95541679e-01, 9.95558345e-01,\n",
       "       9.95575011e-01, 9.95608344e-01, 9.95658345e-01, 9.95683345e-01,\n",
       "       9.95716679e-01, 9.95741679e-01, 9.95783346e-01, 9.95808346e-01,\n",
       "       9.95825013e-01, 9.95841680e-01, 9.95883346e-01, 9.95883346e-01,\n",
       "       9.95908346e-01, 9.95925012e-01, 9.95933345e-01, 9.95933345e-01,\n",
       "       9.95933345e-01, 9.95950012e-01, 9.95966678e-01, 9.95983344e-01,\n",
       "       9.95991677e-01, 9.96000011e-01, 9.96008344e-01, 9.96016677e-01,\n",
       "       9.96050011e-01, 9.96066678e-01, 9.96066678e-01, 9.96108343e-01,\n",
       "       9.96125010e-01, 9.96150010e-01, 9.96183343e-01, 9.96208344e-01,\n",
       "       9.96258344e-01, 9.96358343e-01, 9.96483342e-01, 9.96541675e-01,\n",
       "       9.96650009e-01, 9.96858343e-01, 9.97100009e-01, 9.97400006e-01,\n",
       "       9.97608339e-01, 9.97850005e-01, 9.98091669e-01, 9.98408337e-01,\n",
       "       9.98658335e-01, 9.98841667e-01, 9.99066667e-01, 9.99216669e-01,\n",
       "       9.99366669e-01, 9.99508333e-01, 9.99574998e-01, 9.99649998e-01,\n",
       "       9.99708333e-01, 9.99783332e-01, 9.99841665e-01, 9.99849997e-01,\n",
       "       9.99891665e-01, 9.99916665e-01, 9.99924999e-01, 9.99941666e-01,\n",
       "       9.99958333e-01, 9.99966667e-01, 9.99983334e-01, 9.99983334e-01,\n",
       "       9.99983334e-01, 9.99983334e-01, 9.99983334e-01, 9.99983334e-01,\n",
       "       9.99983334e-01, 9.99991667e-01, 9.99991667e-01, 9.99991667e-01,\n",
       "       9.99991667e-01, 9.99991667e-01, 9.99991667e-01, 9.99991667e-01,\n",
       "       1.00000000e+00, 1.00000000e+00, 1.00000000e+00, 1.00000000e+00,\n",
       "       1.00000000e+00, 1.00000000e+00, 1.00000000e+00, 1.00000000e+00,\n",
       "       1.00000000e+00, 1.00000000e+00, 1.00000000e+00, 1.00000000e+00,\n",
       "       1.00000000e+00, 1.00000000e+00, 1.00000000e+00, 1.00000000e+00,\n",
       "       1.00000000e+00, 1.00000000e+00, 1.00000000e+00, 1.00000000e+00,\n",
       "       1.00000000e+00, 1.00000000e+00, 1.00000000e+00, 1.00000000e+00,\n",
       "       1.00000000e+00, 1.00000000e+00, 1.00000000e+00, 1.00000000e+00,\n",
       "       1.00000000e+00, 1.00000000e+00, 1.00000000e+00, 1.00000000e+00,\n",
       "       1.00000000e+00, 1.00000000e+00, 1.00000000e+00, 1.00000000e+00,\n",
       "       1.00000000e+00, 1.00000000e+00, 1.00000000e+00, 1.00000000e+00,\n",
       "       1.00000000e+00, 1.00000000e+00, 1.00000000e+00, 1.00000000e+00,\n",
       "       1.00000000e+00, 1.00000000e+00, 1.00000000e+00, 1.00000000e+00,\n",
       "       1.00000000e+00, 1.00000000e+00, 1.00000000e+00, 1.00000000e+00,\n",
       "       1.00000000e+00, 1.00000000e+00, 1.00000000e+00, 1.00000000e+00,\n",
       "       1.00000000e+00, 1.00000000e+00, 1.00000000e+00, 1.00000000e+00,\n",
       "       1.00000000e+00, 1.00000000e+00, 1.00000000e+00, 1.00000000e+00,\n",
       "       1.00000000e+00, 1.00000000e+00, 1.00000000e+00, 1.00000000e+00,\n",
       "       1.00000000e+00, 1.00000000e+00, 1.00000000e+00, 1.00000000e+00,\n",
       "       1.00000000e+00, 1.00000000e+00, 1.00000000e+00, 1.00000000e+00,\n",
       "       1.00000000e+00, 1.00000000e+00, 1.00000000e+00, 1.00000000e+00,\n",
       "       1.00000000e+00, 1.00000000e+00, 1.00000000e+00, 1.00000000e+00,\n",
       "       1.00000000e+00, 1.00000000e+00, 1.00000000e+00, 1.00000000e+00,\n",
       "       1.00000000e+00, 1.00000000e+00, 1.00000000e+00, 1.00000000e+00,\n",
       "       1.00000000e+00, 1.00000000e+00, 1.00000000e+00, 1.00000000e+00,\n",
       "       1.00000000e+00, 1.00000000e+00, 1.00000000e+00, 1.00000000e+00,\n",
       "       1.00000000e+00, 1.00000000e+00, 1.00000000e+00, 1.00000000e+00,\n",
       "       1.00000000e+00, 1.00000000e+00, 1.00000000e+00, 1.00000000e+00,\n",
       "       1.00000000e+00, 1.00000000e+00, 1.00000000e+00, 1.00000000e+00,\n",
       "       1.00000000e+00, 1.00000000e+00, 1.00000000e+00, 1.00000000e+00,\n",
       "       1.00000000e+00, 1.00000000e+00, 1.00000000e+00, 1.00000000e+00,\n",
       "       1.00000000e+00, 1.00000000e+00, 1.00000000e+00, 1.00000000e+00,\n",
       "       1.00000000e+00, 1.00000000e+00, 1.00000000e+00, 1.00000000e+00,\n",
       "       1.00000000e+00, 1.00000000e+00, 1.00000000e+00, 1.00000000e+00,\n",
       "       1.00000000e+00, 1.00000000e+00, 1.00000000e+00, 1.00000000e+00,\n",
       "       1.00000000e+00, 1.00000000e+00, 1.00000000e+00, 1.00000000e+00,\n",
       "       1.00000000e+00, 1.00000000e+00, 1.00000000e+00, 1.00000000e+00,\n",
       "       1.00000000e+00, 1.00000000e+00, 1.00000000e+00, 1.00000000e+00,\n",
       "       1.00000000e+00, 1.00000000e+00, 1.00000000e+00, 1.00000000e+00,\n",
       "       1.00000000e+00, 1.00000000e+00, 1.00000000e+00, 1.00000000e+00,\n",
       "       1.00000000e+00, 1.00000000e+00, 1.00000000e+00, 1.00000000e+00,\n",
       "       1.00000000e+00, 1.00000000e+00, 1.00000000e+00, 1.00000000e+00,\n",
       "       1.00000000e+00, 1.00000000e+00, 1.00000000e+00, 1.00000000e+00])"
      ]
     },
     "execution_count": 84,
     "metadata": {},
     "output_type": "execute_result"
    }
   ],
   "source": [
    "TPR"
   ]
  },
  {
   "cell_type": "code",
   "execution_count": 85,
   "metadata": {},
   "outputs": [
    {
     "data": {
      "text/plain": [
       "0.9981644091986995"
      ]
     },
     "execution_count": 85,
     "metadata": {},
     "output_type": "execute_result"
    }
   ],
   "source": [
    "roc_auc=metrics.auc(FPR,TPR)\n",
    "roc_auc"
   ]
  },
  {
   "cell_type": "code",
   "execution_count": 88,
   "metadata": {},
   "outputs": [
    {
     "data": {
      "image/png": "[encoded data removed]",
      "text/plain": [
       "<Figure size 640x480 with 1 Axes>"
      ]
     },
     "metadata": {},
     "output_type": "display_data"
    }
   ],
   "source": [
    "from matplotlib import pyplot as plt\n",
    "\n",
    "plt.plot(FPR, TPR, color='darkorange',\n",
    "         label='ROC кривая (area = %0.2f)' % roc_auc)\n",
    "plt.plot([0, 1], [0, 1], color='navy', linestyle='--')\n",
    "plt.xlim([-0.01, 1.0])\n",
    "plt.ylim([0.0, 1.05])\n",
    "plt.xlabel('False Positive Rate')\n",
    "plt.ylabel('True Positive Rate')\n",
    "plt.title('Пример ROC-кривой')\n",
    "plt.legend(loc=\"lower right\")\n",
    "plt.show()"
   ]
  },
  {
   "cell_type": "code",
   "execution_count": null,
   "metadata": {},
   "outputs": [],
   "source": []
  },
  {
   "cell_type": "code",
   "execution_count": 26,
   "metadata": {},
   "outputs": [],
   "source": [
    "class DatasetTrain(Dataset):\n",
    "    def __init__(self, list_imgs, img_dir, labels):\n",
    "        self.list_imgs = list_imgs\n",
    "        self.img_dir = img_dir\n",
    "        self.labels = labels\n",
    "        self.transform = trans.Compose([trans.ToTensor(),\n",
    "                                        trans.Normalize(mean=[0.5, 0.5, 0.5], std=[0.5, 0.5, 0.5])])\n",
    "\n",
    "    def __len__(self):\n",
    "        return len(self.list_imgs)\n",
    "\n",
    "    def __getitem__(self, index):\n",
    "        img_filename_1 = self.img_dir+self.list_imgs[index]\n",
    "        cv_img_1 = cv2.imread(img_filename_1)\n",
    "        cv_img_1 = cv2.cvtColor(cv_img_1, cv2.COLOR_BGR2RGB)\n",
    "        cv_img_1 = self.transform(cv_img_1)\n",
    "        label = self.labels[index]\n",
    "\n",
    "        output = {\n",
    "            'IMG_1_NAME':self.list_imgs[index],\n",
    "            'IMG_1':cv_img_1,\n",
    "            'LABEL':label\n",
    "            }\n",
    "        return output\n"
   ]
  },
  {
   "cell_type": "code",
   "execution_count": 37,
   "metadata": {},
   "outputs": [],
   "source": [
    "def create_train_list(path):\n",
    "    tmp = os.listdir(path)\n",
    "    list_imgs = []\n",
    "    labels = []\n",
    "    for t in tmp:\n",
    "        tmp_tmp = os.listdir(path+t)\n",
    "        for tt in tmp_tmp:\n",
    "            #if os.path.isdir(path+t+'/'+tt):\n",
    "            list_imgs.append(t+'/'+tt)\n",
    "            labels.append(t)\n",
    "    le = preprocessing.LabelEncoder()\n",
    "    labels_new = le.fit_transform(labels)\n",
    "    num_calsses = len(le.classes_)\n",
    "    return list_imgs, labels_new, num_calsses"
   ]
  },
  {
   "cell_type": "code",
   "execution_count": 38,
   "metadata": {},
   "outputs": [],
   "source": [
    "list_imgs, labels_new, num_calsses = create_train_list('/data/dev_5/beybars/face_rec/personal_arcFace/data/cropped_2/cropped_alligned_train/')"
   ]
  },
  {
   "cell_type": "code",
   "execution_count": 40,
   "metadata": {},
   "outputs": [
    {
     "data": {
      "text/plain": [
       "1924"
      ]
     },
     "execution_count": 40,
     "metadata": {},
     "output_type": "execute_result"
    }
   ],
   "source": [
    "num_calsses"
   ]
  },
  {
   "cell_type": "code",
   "execution_count": 32,
   "metadata": {},
   "outputs": [
    {
     "data": {
      "text/plain": [
       "88462"
      ]
     },
     "execution_count": 32,
     "metadata": {},
     "output_type": "execute_result"
    }
   ],
   "source": [
    "len(labels_new)"
   ]
  },
  {
   "cell_type": "code",
   "execution_count": 34,
   "metadata": {},
   "outputs": [
    {
     "data": {
      "text/plain": [
       "88462"
      ]
     },
     "execution_count": 34,
     "metadata": {},
     "output_type": "execute_result"
    }
   ],
   "source": [
    "len(list_imgs)"
   ]
  },
  {
   "cell_type": "code",
   "execution_count": 41,
   "metadata": {},
   "outputs": [],
   "source": [
    "ds = DatasetTrain(list_imgs, '/data/dev_5/beybars/face_rec/personal_arcFace/data/cropped_2/cropped_alligned_train/', labels_new)"
   ]
  },
  {
   "cell_type": "code",
   "execution_count": 52,
   "metadata": {},
   "outputs": [],
   "source": [
    "train_loader = DataLoader(ds, batch_size=95, shuffle=False)          "
   ]
  },
  {
   "cell_type": "code",
   "execution_count": 51,
   "metadata": {},
   "outputs": [
    {
     "data": {
      "text/plain": [
       "233"
      ]
     },
     "execution_count": 51,
     "metadata": {},
     "output_type": "execute_result"
    }
   ],
   "source": [
    "len(train_loader)"
   ]
  },
  {
   "cell_type": "code",
   "execution_count": 57,
   "metadata": {},
   "outputs": [
    {
     "data": {
      "text/plain": [
       "0"
      ]
     },
     "execution_count": 57,
     "metadata": {},
     "output_type": "execute_result"
    }
   ],
   "source": [
    "100%25"
   ]
  },
  {
   "cell_type": "code",
   "execution_count": null,
   "metadata": {},
   "outputs": [],
   "source": []
  },
  {
   "cell_type": "code",
   "execution_count": 69,
   "metadata": {},
   "outputs": [
    {
     "name": "stdout",
     "output_type": "stream",
     "text": [
      "tensor([[-0.5991,  0.6142,  0.3017,  0.2814, -0.9649],\n",
      "        [-1.4914,  0.7996,  0.0508, -1.3391,  1.1146],\n",
      "        [-2.7230,  0.3357, -1.2446, -2.6732, -0.0811]], requires_grad=True)\n",
      "tensor([2, 0, 0])\n",
      "tensor(2.8458, grad_fn=<NllLossBackward0>)\n",
      "\n",
      "tensor([[ 0.0336,  0.1129, -0.2507,  0.0810,  0.0233],\n",
      "        [-0.3223,  0.1089,  0.0515,  0.0128,  0.1492],\n",
      "        [-0.3254,  0.1700,  0.0350,  0.0084,  0.1120]])\n",
      "tensor(2.8458, grad_fn=<NllLossBackward0>)\n"
     ]
    }
   ],
   "source": [
    "loss = torch.nn.CrossEntropyLoss()\n",
    "input = torch.randn(3, 5, requires_grad=True)\n",
    "print(input)\n",
    "\n",
    "target = torch.empty(3, dtype=torch.long).random_(5)\n",
    "print(target)\n",
    "output = loss(input, target)\n",
    "print(output)\n",
    "output.backward()\n",
    "print()\n",
    "print(input.grad)\n",
    "print(output)\n"
   ]
  },
  {
   "cell_type": "code",
   "execution_count": 134,
   "metadata": {},
   "outputs": [],
   "source": [
    "class TinyModel(torch.nn.Module):\n",
    "\n",
    "    def __init__(self):\n",
    "        super(TinyModel, self).__init__()\n",
    "\n",
    "        self.linear1 = torch.nn.Linear(100, 200)\n",
    "        self.activation = torch.nn.ReLU()\n",
    "        self.linear2 = torch.nn.Linear(200, 10)\n",
    "        self.softmax = torch.nn.Softmax()\n",
    "\n",
    "    def forward(self, x):\n",
    "        print(x.shape)\n",
    "        x = self.linear1(x)\n",
    "        print(x.shape)\n",
    "        x = self.activation(x)\n",
    "        x = self.linear2(x)\n",
    "        print(x.shape)\n",
    "        x = self.softmax(x)\n",
    "        print(x.shape)\n",
    "        return x\n",
    "\n",
    "tinymodel = TinyModel()"
   ]
  },
  {
   "cell_type": "code",
   "execution_count": 135,
   "metadata": {},
   "outputs": [
    {
     "name": "stdout",
     "output_type": "stream",
     "text": [
      "torch.Size([200, 100])\n",
      "torch.Size([200, 200])\n",
      "torch.Size([200, 10])\n",
      "torch.Size([200, 10])\n"
     ]
    },
    {
     "name": "stderr",
     "output_type": "stream",
     "text": [
      "/tmp/ipykernel_39697/380898572.py:18: UserWarning: Implicit dimension choice for softmax has been deprecated. Change the call to include dim=X as an argument.\n",
      "  x = self.softmax(x)\n"
     ]
    },
    {
     "data": {
      "text/plain": [
       "torch.Size([200, 10])"
      ]
     },
     "execution_count": 135,
     "metadata": {},
     "output_type": "execute_result"
    }
   ],
   "source": [
    "a = tinymodel(torch.rand(200,100))\n",
    "a.shape"
   ]
  },
  {
   "cell_type": "code",
   "execution_count": 196,
   "metadata": {},
   "outputs": [],
   "source": [
    "class TinyModel(torch.nn.Module):\n",
    "    def __init__(self):\n",
    "        super(TinyModel, self).__init__()\n",
    "        self.seq = torch.nn.Sequential(\n",
    "            torch.nn.Linear(100, 200),\n",
    "            torch.nn.ReLU(),\n",
    "            torch.nn.Linear(200, 10),\n",
    "            torch.nn.Softmax()\n",
    "        )\n",
    "\n",
    "    def forward(self, x):\n",
    "        x=self.seq(x)\n",
    "        return x\n",
    "\n",
    "tinymodel = TinyModel()"
   ]
  },
  {
   "cell_type": "code",
   "execution_count": 195,
   "metadata": {},
   "outputs": [
    {
     "data": {
      "text/plain": [
       "tensor([[0.0874, 0.1135, 0.0810,  ..., 0.1005, 0.0996, 0.1065],\n",
       "        [0.0927, 0.1172, 0.0981,  ..., 0.0893, 0.1007, 0.0988],\n",
       "        [0.0833, 0.1020, 0.0844,  ..., 0.0965, 0.1103, 0.1072],\n",
       "        ...,\n",
       "        [0.0937, 0.1191, 0.0927,  ..., 0.0998, 0.0970, 0.1067],\n",
       "        [0.0914, 0.1074, 0.0878,  ..., 0.1008, 0.0971, 0.0998],\n",
       "        [0.1039, 0.1057, 0.0859,  ..., 0.1032, 0.0921, 0.1066]],\n",
       "       grad_fn=<SoftmaxBackward0>)"
      ]
     },
     "execution_count": 195,
     "metadata": {},
     "output_type": "execute_result"
    }
   ],
   "source": [
    "a = tinymodel(torch.rand(200,100))\n",
    "a"
   ]
  },
  {
   "cell_type": "code",
   "execution_count": 197,
   "metadata": {},
   "outputs": [
    {
     "name": "stdout",
     "output_type": "stream",
     "text": [
      "seq.0.weight torch.Size([200, 100])\n",
      "Parameter containing:\n",
      "tensor([[ 0.0067,  0.0833,  0.0607,  ..., -0.0700, -0.0266,  0.0903],\n",
      "        [-0.0087, -0.0766,  0.0153,  ...,  0.0362,  0.0976, -0.0320],\n",
      "        [-0.0274,  0.0902,  0.0409,  ...,  0.0529, -0.0202, -0.0013],\n",
      "        ...,\n",
      "        [-0.0455, -0.0669,  0.0239,  ...,  0.0474,  0.0215, -0.0670],\n",
      "        [ 0.0186, -0.0251,  0.0194,  ...,  0.0096,  0.0849, -0.0561],\n",
      "        [ 0.0588, -0.0748, -0.0754,  ..., -0.0988, -0.0120,  0.0899]],\n",
      "       requires_grad=True)\n",
      "\n",
      "seq.0.bias torch.Size([200])\n",
      "Parameter containing:\n",
      "tensor([ 0.0884, -0.0443, -0.0094, -0.0099, -0.0586,  0.0126, -0.0594, -0.0893,\n",
      "        -0.0407, -0.0190,  0.0260, -0.0984,  0.0128, -0.0581, -0.0061,  0.0115,\n",
      "        -0.0408,  0.0348, -0.0031,  0.0544,  0.0057, -0.0303, -0.0416, -0.0494,\n",
      "        -0.0440,  0.0569, -0.0948,  0.0326, -0.0449, -0.0026, -0.0381,  0.0156,\n",
      "         0.0473,  0.0523, -0.0989,  0.0098,  0.0385, -0.0263, -0.0054,  0.0696,\n",
      "        -0.0301, -0.0453,  0.0963, -0.0185, -0.0152, -0.0014,  0.0316, -0.0480,\n",
      "         0.0239, -0.0047, -0.0573,  0.0789,  0.0442, -0.0536,  0.0837,  0.0752,\n",
      "         0.0388, -0.0178, -0.0806,  0.0514, -0.0959,  0.0825,  0.0726, -0.0460,\n",
      "        -0.0640,  0.0614, -0.0710, -0.0907, -0.0303,  0.0672, -0.0427,  0.0063,\n",
      "         0.0336,  0.0908, -0.0860,  0.0539, -0.0898, -0.0214,  0.0252, -0.0096,\n",
      "         0.0298, -0.0730, -0.0069, -0.0670,  0.0117, -0.0458, -0.0496, -0.0900,\n",
      "        -0.0464, -0.0980, -0.0651, -0.0205,  0.0525,  0.0012, -0.0774,  0.0825,\n",
      "        -0.0862,  0.0161, -0.0949,  0.0560,  0.0508,  0.0538,  0.0015,  0.0119,\n",
      "        -0.0610, -0.0513,  0.0593,  0.0109, -0.0367,  0.0678,  0.0157,  0.0082,\n",
      "         0.0574,  0.0867,  0.0969,  0.0822,  0.0505,  0.0404,  0.0063, -0.0980,\n",
      "         0.0664,  0.0526,  0.0049,  0.0938, -0.0488, -0.0421,  0.0373, -0.0846,\n",
      "         0.0839,  0.0079,  0.0005,  0.0828, -0.0667, -0.0955, -0.0702,  0.0033,\n",
      "         0.0226,  0.0853,  0.0358, -0.0502, -0.0783,  0.0591,  0.0430,  0.0357,\n",
      "         0.0939, -0.0986,  0.0893, -0.0675, -0.0393, -0.0451,  0.0588, -0.0038,\n",
      "         0.0494, -0.0949, -0.0146, -0.0092,  0.0003, -0.0468,  0.0390,  0.0555,\n",
      "         0.0850, -0.0673, -0.0027,  0.0502, -0.0566, -0.0989,  0.0198,  0.0481,\n",
      "        -0.0194,  0.0358, -0.0743,  0.0771, -0.0101, -0.0611, -0.0220,  0.0363,\n",
      "         0.0830, -0.0134, -0.0349, -0.0408, -0.0614,  0.0474, -0.0807,  0.0495,\n",
      "         0.0999,  0.0444,  0.0076,  0.0311,  0.0657,  0.0541,  0.0403,  0.0062,\n",
      "         0.0294, -0.0918,  0.0318, -0.0806, -0.0081, -0.0101,  0.0214,  0.0156],\n",
      "       requires_grad=True)\n",
      "\n",
      "seq.2.weight torch.Size([10, 200])\n",
      "Parameter containing:\n",
      "tensor([[ 0.0332,  0.0564,  0.0598,  ...,  0.0572,  0.0637,  0.0258],\n",
      "        [-0.0275, -0.0306,  0.0402,  ...,  0.0190, -0.0232,  0.0566],\n",
      "        [-0.0095,  0.0197,  0.0426,  ...,  0.0089,  0.0476,  0.0636],\n",
      "        ...,\n",
      "        [ 0.0626,  0.0244,  0.0141,  ..., -0.0107,  0.0381, -0.0184],\n",
      "        [ 0.0112, -0.0241, -0.0007,  ..., -0.0226, -0.0323,  0.0338],\n",
      "        [-0.0637, -0.0417,  0.0459,  ...,  0.0216, -0.0363,  0.0703]],\n",
      "       requires_grad=True)\n",
      "\n",
      "seq.2.bias torch.Size([10])\n",
      "Parameter containing:\n",
      "tensor([-0.0187, -0.0280,  0.0661, -0.0557, -0.0591, -0.0120, -0.0620, -0.0238,\n",
      "        -0.0061, -0.0491], requires_grad=True)\n",
      "\n"
     ]
    }
   ],
   "source": [
    "for n, p in tinymodel.named_parameters():\n",
    "    print(n, p.shape)\n",
    "    print(p)\n",
    "    print()"
   ]
  },
  {
   "cell_type": "code",
   "execution_count": 206,
   "metadata": {},
   "outputs": [
    {
     "data": {
      "text/plain": [
       "SGD (\n",
       "Parameter Group 0\n",
       "    dampening: 0\n",
       "    differentiable: False\n",
       "    foreach: None\n",
       "    lr: 0.1\n",
       "    maximize: False\n",
       "    momentum: 0.9\n",
       "    nesterov: False\n",
       "    weight_decay: 0\n",
       ")"
      ]
     },
     "execution_count": 206,
     "metadata": {},
     "output_type": "execute_result"
    }
   ],
   "source": [
    "optimizer = torch.optim.SGD(tinymodel.parameters(), lr=0.1, momentum=0.9)\n",
    "optimizer"
   ]
  },
  {
   "cell_type": "code",
   "execution_count": 192,
   "metadata": {},
   "outputs": [
    {
     "ename": "KeyError",
     "evalue": "0",
     "output_type": "error",
     "traceback": [
      "\u001b[0;31m---------------------------------------------------------------------------\u001b[0m",
      "\u001b[0;31mKeyError\u001b[0m                                  Traceback (most recent call last)",
      "Cell \u001b[0;32mIn [192], line 1\u001b[0m\n\u001b[0;32m----> 1\u001b[0m optimizer\u001b[39m.\u001b[39;49mstate_dict()[\u001b[39m'\u001b[39;49m\u001b[39mstate\u001b[39;49m\u001b[39m'\u001b[39;49m][\u001b[39m0\u001b[39;49m][\u001b[39m'\u001b[39m\u001b[39mmomentum_buffer\u001b[39m\u001b[39m'\u001b[39m]\u001b[39m.\u001b[39mshape\n",
      "\u001b[0;31mKeyError\u001b[0m: 0"
     ]
    }
   ],
   "source": [
    "optimizer.state_dict()['state'][0]['momentum_buffer'].shape"
   ]
  },
  {
   "cell_type": "code",
   "execution_count": 164,
   "metadata": {},
   "outputs": [
    {
     "data": {
      "text/plain": [
       "[{'lr': 0.01,\n",
       "  'momentum': 0.9,\n",
       "  'dampening': 0,\n",
       "  'weight_decay': 0,\n",
       "  'nesterov': False,\n",
       "  'maximize': False,\n",
       "  'foreach': None,\n",
       "  'differentiable': False,\n",
       "  'params': [0, 1, 2, 3]}]"
      ]
     },
     "execution_count": 164,
     "metadata": {},
     "output_type": "execute_result"
    }
   ],
   "source": [
    "optimizer.state_dict()['param_groups']"
   ]
  },
  {
   "cell_type": "code",
   "execution_count": 181,
   "metadata": {},
   "outputs": [
    {
     "data": {
      "text/plain": [
       "tensor([ 0.0793, -0.0847, -0.0111, -0.0102,  0.0048,  0.0402, -0.0271,  0.0024,\n",
       "         0.0522,  0.0632], grad_fn=<SliceBackward0>)"
      ]
     },
     "execution_count": 181,
     "metadata": {},
     "output_type": "execute_result"
    }
   ],
   "source": [
    "tinymodel.seq[0].weight[0,:10]"
   ]
  },
  {
   "cell_type": "code",
   "execution_count": 207,
   "metadata": {},
   "outputs": [
    {
     "name": "stdout",
     "output_type": "stream",
     "text": [
      "tensor([ 0.0041,  0.0878,  0.0599, -0.0899,  0.0134,  0.0371,  0.0643, -0.0292,\n",
      "         0.0439, -0.0090], grad_fn=<SliceBackward0>)\n",
      "tensor(2.2159, grad_fn=<NllLossBackward0>)\n",
      "tensor([-3.5434e-04,  6.7762e-05,  1.5425e-04, -4.2033e-04, -1.6688e-04,\n",
      "         2.8904e-04, -2.3796e-05, -3.2430e-04,  2.9211e-04,  2.8192e-04])\n",
      "\n",
      "tensor([ 0.0041,  0.0877,  0.0599, -0.0898,  0.0134,  0.0370,  0.0643, -0.0292,\n",
      "         0.0439, -0.0090], grad_fn=<SliceBackward0>)\n",
      "tensor(2.2152, grad_fn=<NllLossBackward0>)\n",
      "tensor([-3.5538e-04,  6.8213e-05,  1.5478e-04, -4.2378e-04, -1.6746e-04,\n",
      "         2.8419e-04, -2.5302e-05, -3.2423e-04,  2.9604e-04,  2.8737e-04])\n",
      "\n",
      "tensor([ 0.0042,  0.0877,  0.0599, -0.0898,  0.0134,  0.0370,  0.0643, -0.0291,\n",
      "         0.0438, -0.0091], grad_fn=<SliceBackward0>)\n",
      "tensor(2.2140, grad_fn=<NllLossBackward0>)\n",
      "tensor([-3.5739e-04,  6.9128e-05,  1.5578e-04, -4.3047e-04, -1.6858e-04,\n",
      "         2.7479e-04, -2.8144e-05, -3.2412e-04,  3.0358e-04,  2.9789e-04])\n",
      "\n"
     ]
    }
   ],
   "source": [
    "input = torch.randn(200, 100, requires_grad=True)\n",
    "loss_fn = torch.nn.CrossEntropyLoss()\n",
    "target = torch.empty(200, dtype=torch.long).random_(5)\n",
    "\n",
    "\n",
    "for i in range(3):\n",
    "    optimizer.zero_grad()\n",
    "    output = tinymodel(input)\n",
    "    loss = loss_fn(output, target)\n",
    "    \n",
    "    loss.backward()\n",
    "    print(tinymodel.seq[0].weight[0,:10])\n",
    "    print(loss)\n",
    "    #print(tinymodel.seq[0].weight[0,:10])\n",
    "    print(tinymodel.seq[0].weight.grad[0,:10])\n",
    "    print()\n",
    "    optimizer.step()"
   ]
  },
  {
   "cell_type": "code",
   "execution_count": 227,
   "metadata": {},
   "outputs": [
    {
     "data": {
      "text/plain": [
       "tensor([1., 2., 3.])"
      ]
     },
     "execution_count": 227,
     "metadata": {},
     "output_type": "execute_result"
    }
   ],
   "source": [
    "a=torch.Tensor([1,2,3])\n",
    "a"
   ]
  },
  {
   "cell_type": "code",
   "execution_count": 228,
   "metadata": {},
   "outputs": [
    {
     "data": {
      "text/plain": [
       "tensor([1., 2., 3.])"
      ]
     },
     "execution_count": 228,
     "metadata": {},
     "output_type": "execute_result"
    }
   ],
   "source": [
    "b=torch.Tensor([1,2,3])\n",
    "b"
   ]
  },
  {
   "cell_type": "code",
   "execution_count": 238,
   "metadata": {},
   "outputs": [
    {
     "data": {
      "text/plain": [
       "tensor([0.])"
      ]
     },
     "execution_count": 238,
     "metadata": {},
     "output_type": "execute_result"
    }
   ],
   "source": [
    "c = torch.zeros((1))\n",
    "c"
   ]
  },
  {
   "cell_type": "code",
   "execution_count": 242,
   "metadata": {},
   "outputs": [
    {
     "data": {
      "text/plain": [
       "tensor(3)"
      ]
     },
     "execution_count": 242,
     "metadata": {},
     "output_type": "execute_result"
    }
   ],
   "source": [
    "d=(a==b).sum()\n",
    "d"
   ]
  },
  {
   "cell_type": "code",
   "execution_count": 243,
   "metadata": {},
   "outputs": [
    {
     "data": {
      "text/plain": [
       "torch.Size([1])"
      ]
     },
     "execution_count": 243,
     "metadata": {},
     "output_type": "execute_result"
    }
   ],
   "source": [
    "(c+d).shape"
   ]
  },
  {
   "cell_type": "code",
   "execution_count": 229,
   "metadata": {},
   "outputs": [
    {
     "data": {
      "text/plain": [
       "tensor([2., 4., 6.])"
      ]
     },
     "execution_count": 229,
     "metadata": {},
     "output_type": "execute_result"
    }
   ],
   "source": [
    "a+b"
   ]
  },
  {
   "cell_type": "code",
   "execution_count": 225,
   "metadata": {},
   "outputs": [
    {
     "data": {
      "text/plain": [
       "torch.float32"
      ]
     },
     "execution_count": 225,
     "metadata": {},
     "output_type": "execute_result"
    }
   ],
   "source": [
    "torch.zeros((1)).dtype"
   ]
  },
  {
   "cell_type": "code",
   "execution_count": 15,
   "metadata": {},
   "outputs": [],
   "source": [
    "ad = os.listdir('/data/dev_5/beybars/face_rec/personal_arcFace/data/cropped_2/cropped_alligned_train')"
   ]
  },
  {
   "cell_type": "code",
   "execution_count": 16,
   "metadata": {},
   "outputs": [],
   "source": [
    "for a in ad:\n",
    "    listPath = os.listdir('/data/dev_5/beybars/face_rec/personal_arcFace/data/cropped_2/cropped_alligned_train'+'/'+a)\n",
    "    for aa in listPath:\n",
    "        if os.path.isdir('/data/dev_5/beybars/face_rec/personal_arcFace/data/cropped_2/cropped_alligned_train'+'/'+a+'/'+aa):\n",
    "            print('/data/dev_5/beybars/face_rec/personal_arcFace/data/cropped_2/cropped_alligned_train'+'/'+a+'/'+aa)"
   ]
  },
  {
   "cell_type": "code",
   "execution_count": 2,
   "metadata": {},
   "outputs": [],
   "source": [
    "img = cv2.imread('data/celeba/train/8659/187912.jpg')"
   ]
  },
  {
   "cell_type": "code",
   "execution_count": 3,
   "metadata": {},
   "outputs": [
    {
     "data": {
      "text/plain": [
       "array([[[119, 126, 119],\n",
       "        [121, 128, 121],\n",
       "        [107, 114, 111],\n",
       "        ...,\n",
       "        [134, 106, 105],\n",
       "        [134, 107, 103],\n",
       "        [134, 107, 103]],\n",
       "\n",
       "       [[122, 130, 123],\n",
       "        [ 84,  91,  86],\n",
       "        [ 74,  83,  80],\n",
       "        ...,\n",
       "        [135, 107, 106],\n",
       "        [134, 107, 103],\n",
       "        [134, 107, 103]],\n",
       "\n",
       "       [[ 71,  83,  77],\n",
       "        [ 67,  79,  73],\n",
       "        [116, 127, 124],\n",
       "        ...,\n",
       "        [132, 107, 105],\n",
       "        [134, 107, 103],\n",
       "        [134, 107, 103]],\n",
       "\n",
       "       ...,\n",
       "\n",
       "       [[ 90, 106, 129],\n",
       "        [103, 120, 141],\n",
       "        [107, 124, 143],\n",
       "        ...,\n",
       "        [148, 151, 165],\n",
       "        [145, 151, 164],\n",
       "        [144, 150, 163]],\n",
       "\n",
       "       [[ 84, 103, 124],\n",
       "        [ 99, 118, 139],\n",
       "        [103, 123, 141],\n",
       "        ...,\n",
       "        [149, 152, 166],\n",
       "        [146, 151, 166],\n",
       "        [145, 150, 165]],\n",
       "\n",
       "       [[ 88, 107, 128],\n",
       "        [102, 121, 142],\n",
       "        [105, 125, 143],\n",
       "        ...,\n",
       "        [150, 153, 167],\n",
       "        [146, 151, 166],\n",
       "        [145, 150, 165]]], dtype=uint8)"
      ]
     },
     "execution_count": 3,
     "metadata": {},
     "output_type": "execute_result"
    }
   ],
   "source": [
    "img"
   ]
  },
  {
   "cell_type": "code",
   "execution_count": 7,
   "metadata": {},
   "outputs": [],
   "source": [
    "le = preprocessing.LabelEncoder()\n",
    "labels_new = le.fit_transform(['23','23', '564', '564', '555', '564'])"
   ]
  },
  {
   "cell_type": "code",
   "execution_count": 8,
   "metadata": {},
   "outputs": [
    {
     "data": {
      "text/plain": [
       "array([0, 0, 2, 2, 1, 2])"
      ]
     },
     "execution_count": 8,
     "metadata": {},
     "output_type": "execute_result"
    }
   ],
   "source": [
    "labels_new"
   ]
  },
  {
   "cell_type": "code",
   "execution_count": 16,
   "metadata": {},
   "outputs": [
    {
     "data": {
      "text/plain": [
       "torch.int64"
      ]
     },
     "execution_count": 16,
     "metadata": {},
     "output_type": "execute_result"
    }
   ],
   "source": [
    "torch.tensor([0,1,2,3], dtype=torch.long)"
   ]
  },
  {
   "cell_type": "code",
   "execution_count": 18,
   "metadata": {},
   "outputs": [],
   "source": [
    "t1 = torch.rand((5,512))\n",
    "t2 = torch.rand((5,512))"
   ]
  },
  {
   "cell_type": "code",
   "execution_count": 20,
   "metadata": {},
   "outputs": [
    {
     "data": {
      "text/plain": [
       "torch.Size([5, 512])"
      ]
     },
     "execution_count": 20,
     "metadata": {},
     "output_type": "execute_result"
    }
   ],
   "source": [
    "diff = np.subtract(t1, t2)\n",
    "diff.shape"
   ]
  },
  {
   "cell_type": "code",
   "execution_count": 31,
   "metadata": {},
   "outputs": [
    {
     "data": {
      "text/plain": [
       "tensor(85.7096)"
      ]
     },
     "execution_count": 31,
     "metadata": {},
     "output_type": "execute_result"
    }
   ],
   "source": [
    "np.square(diff)[0].sum()"
   ]
  },
  {
   "cell_type": "code",
   "execution_count": 29,
   "metadata": {},
   "outputs": [
    {
     "data": {
      "text/plain": [
       "tensor([85.7096, 85.7546, 83.2996, 90.2393, 88.7972])"
      ]
     },
     "execution_count": 29,
     "metadata": {},
     "output_type": "execute_result"
    }
   ],
   "source": [
    "dist = np.square(diff).sum(axis=1)\n",
    "dist"
   ]
  },
  {
   "cell_type": "code",
   "execution_count": 23,
   "metadata": {},
   "outputs": [
    {
     "data": {
      "text/plain": [
       "array([1, 5])"
      ]
     },
     "execution_count": 23,
     "metadata": {},
     "output_type": "execute_result"
    }
   ],
   "source": [
    "np.sum([[0, 1], [0, 5]], axis=1)"
   ]
  },
  {
   "cell_type": "code",
   "execution_count": 33,
   "metadata": {},
   "outputs": [
    {
     "data": {
      "text/plain": [
       "1"
      ]
     },
     "execution_count": 33,
     "metadata": {},
     "output_type": "execute_result"
    }
   ],
   "source": [
    "np.sum(np.logical_and(np.array([True, True, False]), np.array([True, False, False])))"
   ]
  },
  {
   "cell_type": "code",
   "execution_count": 47,
   "metadata": {},
   "outputs": [
    {
     "data": {
      "text/plain": [
       "tensor([0, 0, 0, 0, 0], dtype=torch.uint8)"
      ]
     },
     "execution_count": 47,
     "metadata": {},
     "output_type": "execute_result"
    }
   ],
   "source": [
    "a = torch.tensor([0, 0, 0, 0, 0], dtype=torch.uint8)\n",
    "a"
   ]
  },
  {
   "cell_type": "code",
   "execution_count": 48,
   "metadata": {},
   "outputs": [
    {
     "name": "stderr",
     "output_type": "stream",
     "text": [
      "/tmp/ipykernel_484827/1936017203.py:1: UserWarning: To copy construct from a tensor, it is recommended to use sourceTensor.clone().detach() or sourceTensor.clone().detach().requires_grad_(True), rather than torch.tensor(sourceTensor).\n",
      "  a = torch.tensor(a, dtype=torch.bool)\n"
     ]
    },
    {
     "data": {
      "text/plain": [
       "tensor([False, False, False, False, False])"
      ]
     },
     "execution_count": 48,
     "metadata": {},
     "output_type": "execute_result"
    }
   ],
   "source": [
    "a = torch.tensor(a, dtype=torch.bool)\n",
    "a"
   ]
  },
  {
   "cell_type": "code",
   "execution_count": 43,
   "metadata": {},
   "outputs": [
    {
     "data": {
      "text/plain": [
       "array([False, False, False, False, False])"
      ]
     },
     "execution_count": 43,
     "metadata": {},
     "output_type": "execute_result"
    }
   ],
   "source": [
    "a = torch.tensor([0, 0, 0, 0, 0], dtype=torch.bool)\n",
    "a = a.numpy()\n",
    "a"
   ]
  },
  {
   "cell_type": "code",
   "execution_count": 44,
   "metadata": {},
   "outputs": [
    {
     "data": {
      "text/plain": [
       "array([ True,  True, False, False, False])"
      ]
     },
     "execution_count": 44,
     "metadata": {},
     "output_type": "execute_result"
    }
   ],
   "source": [
    "b = np.array([True, True, False, False, False])\n",
    "b"
   ]
  },
  {
   "cell_type": "code",
   "execution_count": 45,
   "metadata": {},
   "outputs": [
    {
     "data": {
      "text/plain": [
       "0"
      ]
     },
     "execution_count": 45,
     "metadata": {},
     "output_type": "execute_result"
    }
   ],
   "source": [
    "np.sum(np.logical_and(a, b))"
   ]
  },
  {
   "cell_type": "code",
   "execution_count": 1,
   "metadata": {},
   "outputs": [
    {
     "data": {
      "text/plain": [
       "[1, 2, 3, 65, 35, 75]"
      ]
     },
     "execution_count": 1,
     "metadata": {},
     "output_type": "execute_result"
    }
   ],
   "source": [
    "[1,2,3] + [65,35,75]"
   ]
  },
  {
   "cell_type": "code",
   "execution_count": 2,
   "metadata": {},
   "outputs": [],
   "source": [
    "from models import Backbone"
   ]
  },
  {
   "cell_type": "code",
   "execution_count": 21,
   "metadata": {},
   "outputs": [],
   "source": [
    "model_152 = Backbone(152, 0.5, 'ir_se')"
   ]
  },
  {
   "cell_type": "code",
   "execution_count": 5,
   "metadata": {},
   "outputs": [],
   "source": [
    "model_50 = Backbone(50, 0.5, 'ir_se')"
   ]
  },
  {
   "cell_type": "code",
   "execution_count": 22,
   "metadata": {},
   "outputs": [
    {
     "name": "stdout",
     "output_type": "stream",
     "text": [
      "input_layer.0.weight Parameter containing:\n",
      "tensor([[[[-0.1499, -0.1135, -0.1518],\n",
      "          [-0.1037,  0.1264, -0.1843],\n",
      "          [-0.0067, -0.0064, -0.0406]],\n",
      "\n",
      "         [[ 0.0662, -0.1525, -0.1288],\n",
      "          [ 0.0385,  0.0722, -0.1723],\n",
      "          [ 0.0490,  0.1560, -0.1194]],\n",
      "\n",
      "         [[ 0.1589, -0.1903,  0.0717],\n",
      "          [ 0.1408, -0.0576, -0.1536],\n",
      "          [ 0.0274, -0.0644,  0.0039]]],\n",
      "\n",
      "\n",
      "        [[[ 0.1731, -0.1853,  0.0162],\n",
      "          [ 0.0660,  0.1052,  0.1485],\n",
      "          [-0.1000, -0.1134, -0.1515]],\n",
      "\n",
      "         [[ 0.1476, -0.1245, -0.1483],\n",
      "          [-0.0646,  0.0594,  0.0222],\n",
      "          [-0.1542,  0.0461, -0.0857]],\n",
      "\n",
      "         [[ 0.1836,  0.1339,  0.1828],\n",
      "          [-0.0229,  0.0636, -0.0589],\n",
      "          [-0.1645,  0.1896,  0.0641]]],\n",
      "\n",
      "\n",
      "        [[[-0.1671, -0.1235,  0.1093],\n",
      "          [ 0.0375,  0.0527,  0.0293],\n",
      "          [ 0.1553, -0.1402, -0.0672]],\n",
      "\n",
      "         [[-0.0559,  0.0889, -0.0155],\n",
      "          [-0.1256, -0.0691, -0.0757],\n",
      "          [ 0.1631, -0.0647,  0.0551]],\n",
      "\n",
      "         [[ 0.1793, -0.0220, -0.0166],\n",
      "          [-0.1298,  0.1389,  0.0627],\n",
      "          [-0.1895, -0.1136,  0.0780]]],\n",
      "\n",
      "\n",
      "        ...,\n",
      "\n",
      "\n",
      "        [[[ 0.1630, -0.0429,  0.1878],\n",
      "          [-0.1535,  0.1747,  0.1872],\n",
      "          [-0.0113, -0.0194, -0.1309]],\n",
      "\n",
      "         [[-0.0794,  0.0985, -0.0945],\n",
      "          [-0.0008, -0.0882, -0.1337],\n",
      "          [ 0.1578,  0.1249, -0.0015]],\n",
      "\n",
      "         [[-0.1460,  0.0325,  0.1625],\n",
      "          [-0.0429, -0.0548,  0.1666],\n",
      "          [ 0.1438,  0.1741, -0.1369]]],\n",
      "\n",
      "\n",
      "        [[[-0.1456, -0.0359,  0.1263],\n",
      "          [ 0.0172, -0.1739, -0.1451],\n",
      "          [-0.0642, -0.1243, -0.1852]],\n",
      "\n",
      "         [[ 0.1084, -0.0466, -0.1221],\n",
      "          [-0.0257, -0.1730, -0.0806],\n",
      "          [ 0.1361, -0.0776,  0.1922]],\n",
      "\n",
      "         [[ 0.1252, -0.1623, -0.0130],\n",
      "          [-0.0322, -0.1895, -0.1889],\n",
      "          [ 0.0702, -0.0674,  0.0779]]],\n",
      "\n",
      "\n",
      "        [[[ 0.1470,  0.0474, -0.0644],\n",
      "          [-0.1687, -0.1648,  0.1406],\n",
      "          [-0.1494, -0.0874, -0.1331]],\n",
      "\n",
      "         [[-0.0906,  0.0422, -0.1267],\n",
      "          [ 0.0509, -0.1483, -0.0564],\n",
      "          [-0.0485,  0.1848, -0.1042]],\n",
      "\n",
      "         [[ 0.1413, -0.0513, -0.1577],\n",
      "          [ 0.1020, -0.1323, -0.1407],\n",
      "          [ 0.0724, -0.0224,  0.0314]]]], requires_grad=True)\n"
     ]
    }
   ],
   "source": [
    "for name, param in model_152.named_parameters():\n",
    "    print(name, param)\n",
    "    break"
   ]
  },
  {
   "cell_type": "code",
   "execution_count": 23,
   "metadata": {},
   "outputs": [
    {
     "data": {
      "text/plain": [
       "Parameter containing:\n",
       "tensor([[[[-0.1499, -0.1135, -0.1518],\n",
       "          [-0.1037,  0.1264, -0.1843],\n",
       "          [-0.0067, -0.0064, -0.0406]],\n",
       "\n",
       "         [[ 0.0662, -0.1525, -0.1288],\n",
       "          [ 0.0385,  0.0722, -0.1723],\n",
       "          [ 0.0490,  0.1560, -0.1194]],\n",
       "\n",
       "         [[ 0.1589, -0.1903,  0.0717],\n",
       "          [ 0.1408, -0.0576, -0.1536],\n",
       "          [ 0.0274, -0.0644,  0.0039]]],\n",
       "\n",
       "\n",
       "        [[[ 0.1731, -0.1853,  0.0162],\n",
       "          [ 0.0660,  0.1052,  0.1485],\n",
       "          [-0.1000, -0.1134, -0.1515]],\n",
       "\n",
       "         [[ 0.1476, -0.1245, -0.1483],\n",
       "          [-0.0646,  0.0594,  0.0222],\n",
       "          [-0.1542,  0.0461, -0.0857]],\n",
       "\n",
       "         [[ 0.1836,  0.1339,  0.1828],\n",
       "          [-0.0229,  0.0636, -0.0589],\n",
       "          [-0.1645,  0.1896,  0.0641]]],\n",
       "\n",
       "\n",
       "        [[[-0.1671, -0.1235,  0.1093],\n",
       "          [ 0.0375,  0.0527,  0.0293],\n",
       "          [ 0.1553, -0.1402, -0.0672]],\n",
       "\n",
       "         [[-0.0559,  0.0889, -0.0155],\n",
       "          [-0.1256, -0.0691, -0.0757],\n",
       "          [ 0.1631, -0.0647,  0.0551]],\n",
       "\n",
       "         [[ 0.1793, -0.0220, -0.0166],\n",
       "          [-0.1298,  0.1389,  0.0627],\n",
       "          [-0.1895, -0.1136,  0.0780]]],\n",
       "\n",
       "\n",
       "        ...,\n",
       "\n",
       "\n",
       "        [[[ 0.1630, -0.0429,  0.1878],\n",
       "          [-0.1535,  0.1747,  0.1872],\n",
       "          [-0.0113, -0.0194, -0.1309]],\n",
       "\n",
       "         [[-0.0794,  0.0985, -0.0945],\n",
       "          [-0.0008, -0.0882, -0.1337],\n",
       "          [ 0.1578,  0.1249, -0.0015]],\n",
       "\n",
       "         [[-0.1460,  0.0325,  0.1625],\n",
       "          [-0.0429, -0.0548,  0.1666],\n",
       "          [ 0.1438,  0.1741, -0.1369]]],\n",
       "\n",
       "\n",
       "        [[[-0.1456, -0.0359,  0.1263],\n",
       "          [ 0.0172, -0.1739, -0.1451],\n",
       "          [-0.0642, -0.1243, -0.1852]],\n",
       "\n",
       "         [[ 0.1084, -0.0466, -0.1221],\n",
       "          [-0.0257, -0.1730, -0.0806],\n",
       "          [ 0.1361, -0.0776,  0.1922]],\n",
       "\n",
       "         [[ 0.1252, -0.1623, -0.0130],\n",
       "          [-0.0322, -0.1895, -0.1889],\n",
       "          [ 0.0702, -0.0674,  0.0779]]],\n",
       "\n",
       "\n",
       "        [[[ 0.1470,  0.0474, -0.0644],\n",
       "          [-0.1687, -0.1648,  0.1406],\n",
       "          [-0.1494, -0.0874, -0.1331]],\n",
       "\n",
       "         [[-0.0906,  0.0422, -0.1267],\n",
       "          [ 0.0509, -0.1483, -0.0564],\n",
       "          [-0.0485,  0.1848, -0.1042]],\n",
       "\n",
       "         [[ 0.1413, -0.0513, -0.1577],\n",
       "          [ 0.1020, -0.1323, -0.1407],\n",
       "          [ 0.0724, -0.0224,  0.0314]]]], requires_grad=True)"
      ]
     },
     "execution_count": 23,
     "metadata": {},
     "output_type": "execute_result"
    }
   ],
   "source": [
    "param"
   ]
  },
  {
   "cell_type": "code",
   "execution_count": 17,
   "metadata": {},
   "outputs": [
    {
     "data": {
      "text/plain": [
       "Parameter containing:\n",
       "tensor([[[[ 0.0775,  0.0518,  0.1201],\n",
       "          [-0.1530, -0.0839,  0.0477],\n",
       "          [-0.0605, -0.0236, -0.0553]],\n",
       "\n",
       "         [[ 0.0307, -0.1082,  0.0978],\n",
       "          [-0.0131, -0.1763,  0.1709],\n",
       "          [-0.0135,  0.0840, -0.0292]],\n",
       "\n",
       "         [[ 0.0024,  0.1840, -0.1290],\n",
       "          [ 0.0498, -0.0859, -0.1329],\n",
       "          [ 0.1045,  0.1757,  0.0237]]],\n",
       "\n",
       "\n",
       "        [[[-0.1487,  0.0574, -0.0408],\n",
       "          [ 0.1684, -0.1633,  0.0081],\n",
       "          [-0.0961, -0.1461,  0.1166]],\n",
       "\n",
       "         [[-0.1534, -0.1761,  0.1261],\n",
       "          [-0.0159,  0.1332,  0.0497],\n",
       "          [ 0.1055,  0.1008,  0.1867]],\n",
       "\n",
       "         [[ 0.1787, -0.0421,  0.1237],\n",
       "          [ 0.0158, -0.0924, -0.1394],\n",
       "          [ 0.1139,  0.0824, -0.0793]]],\n",
       "\n",
       "\n",
       "        [[[ 0.1650,  0.0663,  0.0392],\n",
       "          [ 0.1577, -0.1458,  0.1376],\n",
       "          [-0.1283,  0.1307,  0.0449]],\n",
       "\n",
       "         [[-0.1066,  0.0124,  0.1273],\n",
       "          [ 0.1054, -0.1147, -0.1232],\n",
       "          [-0.0076, -0.1397,  0.1256]],\n",
       "\n",
       "         [[-0.1066,  0.1648,  0.0626],\n",
       "          [ 0.1119,  0.0515,  0.0897],\n",
       "          [-0.1285,  0.1752, -0.0257]]],\n",
       "\n",
       "\n",
       "        ...,\n",
       "\n",
       "\n",
       "        [[[ 0.1158,  0.0671,  0.0721],\n",
       "          [-0.0324,  0.0814, -0.1472],\n",
       "          [-0.0002,  0.0485, -0.1919]],\n",
       "\n",
       "         [[ 0.1908,  0.0273,  0.0999],\n",
       "          [ 0.0083, -0.1234, -0.1782],\n",
       "          [ 0.0997, -0.0478,  0.0283]],\n",
       "\n",
       "         [[-0.0182,  0.0081, -0.1571],\n",
       "          [ 0.0275, -0.0318, -0.0854],\n",
       "          [ 0.0526, -0.1367, -0.1627]]],\n",
       "\n",
       "\n",
       "        [[[-0.1001, -0.0974,  0.0830],\n",
       "          [-0.0065, -0.0184,  0.0869],\n",
       "          [-0.1019, -0.0321,  0.1226]],\n",
       "\n",
       "         [[-0.0801, -0.1642, -0.1412],\n",
       "          [-0.0721, -0.0618, -0.1308],\n",
       "          [ 0.1246,  0.0051,  0.1129]],\n",
       "\n",
       "         [[ 0.1704, -0.0543, -0.0827],\n",
       "          [-0.0453, -0.0393, -0.1666],\n",
       "          [ 0.0854,  0.1632,  0.1615]]],\n",
       "\n",
       "\n",
       "        [[[-0.1364, -0.0629, -0.0917],\n",
       "          [ 0.1558,  0.0920,  0.0769],\n",
       "          [-0.0858,  0.0658, -0.0020]],\n",
       "\n",
       "         [[-0.1210,  0.1673, -0.1210],\n",
       "          [ 0.0321, -0.0155, -0.1421],\n",
       "          [-0.0118, -0.0201, -0.0025]],\n",
       "\n",
       "         [[ 0.0477,  0.0175,  0.0542],\n",
       "          [-0.0643, -0.0571, -0.1528],\n",
       "          [-0.1260,  0.1180, -0.0390]]]], requires_grad=True)"
      ]
     },
     "execution_count": 17,
     "metadata": {},
     "output_type": "execute_result"
    }
   ],
   "source": [
    "param"
   ]
  },
  {
   "cell_type": "code",
   "execution_count": 26,
   "metadata": {},
   "outputs": [],
   "source": [
    "import numpy as np"
   ]
  },
  {
   "cell_type": "code",
   "execution_count": 28,
   "metadata": {},
   "outputs": [
    {
     "data": {
      "text/plain": [
       "array([[0.05487116, 0.3571734 , 0.70541702, 0.78444567, 0.481968  ],\n",
       "       [0.58076222, 0.51203435, 0.50082611, 0.66668407, 0.73384853],\n",
       "       [0.30198868, 0.61321013, 0.06083147, 0.42012282, 0.79811782],\n",
       "       [0.96800602, 0.01877541, 0.12136246, 0.40466663, 0.90564885],\n",
       "       [0.75113543, 0.31090119, 0.31540748, 0.76741288, 0.61756497]])"
      ]
     },
     "execution_count": 28,
     "metadata": {},
     "output_type": "execute_result"
    }
   ],
   "source": [
    "tst = np.random.rand(5,5)\n",
    "tst"
   ]
  },
  {
   "cell_type": "code",
   "execution_count": 31,
   "metadata": {},
   "outputs": [
    {
     "data": {
      "text/plain": [
       "array([3, 4, 4, 0, 3])"
      ]
     },
     "execution_count": 31,
     "metadata": {},
     "output_type": "execute_result"
    }
   ],
   "source": [
    "np.argmax(tst, axis=1)"
   ]
  },
  {
   "cell_type": "code",
   "execution_count": 265,
   "metadata": {},
   "outputs": [],
   "source": [
    "import random, shutil"
   ]
  },
  {
   "cell_type": "code",
   "execution_count": 280,
   "metadata": {},
   "outputs": [],
   "source": [
    "list_ids = os.listdir('/data/beybars_id/img_data/cropped_alligned/')"
   ]
  },
  {
   "cell_type": "code",
   "execution_count": 282,
   "metadata": {},
   "outputs": [],
   "source": [
    "list_ids = os.listdir('/data/beybars_id/img_data/cropped_alligned_val/')"
   ]
  },
  {
   "cell_type": "code",
   "execution_count": 283,
   "metadata": {},
   "outputs": [
    {
     "data": {
      "text/plain": [
       "20000"
      ]
     },
     "execution_count": 283,
     "metadata": {},
     "output_type": "execute_result"
    }
   ],
   "source": [
    "len(list_ids)"
   ]
  },
  {
   "cell_type": "code",
   "execution_count": 275,
   "metadata": {},
   "outputs": [],
   "source": [
    "val_ids = random.sample(list_ids, 100000)"
   ]
  },
  {
   "cell_type": "code",
   "execution_count": 276,
   "metadata": {},
   "outputs": [
    {
     "data": {
      "text/plain": [
       "100000"
      ]
     },
     "execution_count": 276,
     "metadata": {},
     "output_type": "execute_result"
    }
   ],
   "source": [
    "len(val_ids)"
   ]
  },
  {
   "cell_type": "code",
   "execution_count": 256,
   "metadata": {},
   "outputs": [
    {
     "data": {
      "text/plain": [
       "'920425401700'"
      ]
     },
     "execution_count": 256,
     "metadata": {},
     "output_type": "execute_result"
    }
   ],
   "source": [
    "val_ids[0]"
   ]
  },
  {
   "cell_type": "code",
   "execution_count": 260,
   "metadata": {},
   "outputs": [
    {
     "data": {
      "text/plain": [
       "['970122400843',\n",
       " '910906402167',\n",
       " '920924451195',\n",
       " '910716302871',\n",
       " '801018301978',\n",
       " '810218300123',\n",
       " '000928500682',\n",
       " '031001501440',\n",
       " '790102300423']"
      ]
     },
     "execution_count": 260,
     "metadata": {},
     "output_type": "execute_result"
    }
   ],
   "source": [
    "val_ids[1:10]"
   ]
  },
  {
   "cell_type": "code",
   "execution_count": 258,
   "metadata": {},
   "outputs": [
    {
     "data": {
      "text/plain": [
       "'/data/beybars_id/img_data/cropped_alligned_val/920425401700'"
      ]
     },
     "execution_count": 258,
     "metadata": {},
     "output_type": "execute_result"
    }
   ],
   "source": [
    "src = '/data/beybars_id/img_data/cropped_alligned/920425401700/'\n",
    "dst = '/data/beybars_id/img_data/cropped_alligned_val/'\n",
    "shutil.move(src, dst)"
   ]
  },
  {
   "cell_type": "code",
   "execution_count": 277,
   "metadata": {},
   "outputs": [
    {
     "name": "stderr",
     "output_type": "stream",
     "text": [
      "100%|██████████| 100000/100000 [04:09<00:00, 401.20it/s]\n"
     ]
    }
   ],
   "source": [
    "for i in tqdm(val_ids):\n",
    "    src = '/data/beybars_id/img_data/cropped_alligned/'+i+'/'\n",
    "    dst = '/data/beybars_id/img_data/cropped_alligned_extra/'\n",
    "    shutil.move(src, dst)"
   ]
  },
  {
   "cell_type": "code",
   "execution_count": 262,
   "metadata": {},
   "outputs": [],
   "source": [
    "a=torch.nn.Parameter(torch.FloatTensor(813500, 512))"
   ]
  },
  {
   "cell_type": "code",
   "execution_count": 264,
   "metadata": {},
   "outputs": [
    {
     "data": {
      "text/plain": [
       "torch.Size([813500, 512])"
      ]
     },
     "execution_count": 264,
     "metadata": {},
     "output_type": "execute_result"
    }
   ],
   "source": [
    "a.shape"
   ]
  },
  {
   "cell_type": "code",
   "execution_count": 2,
   "metadata": {},
   "outputs": [],
   "source": [
    "import torch\n",
    "from torch.utils.data.distributed import DistributedSampler\n",
    "from torch.nn.parallel import DistributedDataParallel as DDP\n",
    "from torch.distributed import init_process_group, destroy_process_group\n",
    "from models import Backbone, Arcface"
   ]
  },
  {
   "cell_type": "code",
   "execution_count": null,
   "metadata": {},
   "outputs": [],
   "source": []
  },
  {
   "cell_type": "code",
   "execution_count": null,
   "metadata": {},
   "outputs": [],
   "source": [
    "model = Backbone(50, 0.6, 'ir_se').to()\n",
    "head = Arcface(embedding_size=512, classnum=self.class_num).to(conf.device)"
   ]
  },
  {
   "cell_type": "code",
   "execution_count": 4,
   "metadata": {},
   "outputs": [],
   "source": [
    "import numpy as np"
   ]
  },
  {
   "cell_type": "code",
   "execution_count": 5,
   "metadata": {},
   "outputs": [],
   "source": [
    "thresholds = np.arange(0, 2, 0.01)"
   ]
  },
  {
   "cell_type": "code",
   "execution_count": 6,
   "metadata": {},
   "outputs": [
    {
     "data": {
      "text/plain": [
       "array([0.  , 0.01, 0.02, 0.03, 0.04, 0.05, 0.06, 0.07, 0.08, 0.09, 0.1 ,\n",
       "       0.11, 0.12, 0.13, 0.14, 0.15, 0.16, 0.17, 0.18, 0.19, 0.2 , 0.21,\n",
       "       0.22, 0.23, 0.24, 0.25, 0.26, 0.27, 0.28, 0.29, 0.3 , 0.31, 0.32,\n",
       "       0.33, 0.34, 0.35, 0.36, 0.37, 0.38, 0.39, 0.4 , 0.41, 0.42, 0.43,\n",
       "       0.44, 0.45, 0.46, 0.47, 0.48, 0.49, 0.5 , 0.51, 0.52, 0.53, 0.54,\n",
       "       0.55, 0.56, 0.57, 0.58, 0.59, 0.6 , 0.61, 0.62, 0.63, 0.64, 0.65,\n",
       "       0.66, 0.67, 0.68, 0.69, 0.7 , 0.71, 0.72, 0.73, 0.74, 0.75, 0.76,\n",
       "       0.77, 0.78, 0.79, 0.8 , 0.81, 0.82, 0.83, 0.84, 0.85, 0.86, 0.87,\n",
       "       0.88, 0.89, 0.9 , 0.91, 0.92, 0.93, 0.94, 0.95, 0.96, 0.97, 0.98,\n",
       "       0.99, 1.  , 1.01, 1.02, 1.03, 1.04, 1.05, 1.06, 1.07, 1.08, 1.09,\n",
       "       1.1 , 1.11, 1.12, 1.13, 1.14, 1.15, 1.16, 1.17, 1.18, 1.19, 1.2 ,\n",
       "       1.21, 1.22, 1.23, 1.24, 1.25, 1.26, 1.27, 1.28, 1.29, 1.3 , 1.31,\n",
       "       1.32, 1.33, 1.34, 1.35, 1.36, 1.37, 1.38, 1.39, 1.4 , 1.41, 1.42,\n",
       "       1.43, 1.44, 1.45, 1.46, 1.47, 1.48, 1.49, 1.5 , 1.51, 1.52, 1.53,\n",
       "       1.54, 1.55, 1.56, 1.57, 1.58, 1.59, 1.6 , 1.61, 1.62, 1.63, 1.64,\n",
       "       1.65, 1.66, 1.67, 1.68, 1.69, 1.7 , 1.71, 1.72, 1.73, 1.74, 1.75,\n",
       "       1.76, 1.77, 1.78, 1.79, 1.8 , 1.81, 1.82, 1.83, 1.84, 1.85, 1.86,\n",
       "       1.87, 1.88, 1.89, 1.9 , 1.91, 1.92, 1.93, 1.94, 1.95, 1.96, 1.97,\n",
       "       1.98, 1.99])"
      ]
     },
     "execution_count": 6,
     "metadata": {},
     "output_type": "execute_result"
    }
   ],
   "source": [
    "thresholds"
   ]
  },
  {
   "cell_type": "code",
   "execution_count": 9,
   "metadata": {},
   "outputs": [
    {
     "data": {
      "text/plain": [
       "147"
      ]
     },
     "execution_count": 9,
     "metadata": {},
     "output_type": "execute_result"
    }
   ],
   "source": [
    "indx=np.where(thresholds == 1.47)\n",
    "indx[0].item()\n",
    "# ind = indx[]"
   ]
  },
  {
   "cell_type": "code",
   "execution_count": null,
   "metadata": {},
   "outputs": [],
   "source": []
  }
 ],
 "metadata": {
  "kernelspec": {
   "display_name": "Python 3 (ipykernel)",
   "language": "python",
   "name": "python3"
  },
  "language_info": {
   "codemirror_mode": {
    "name": "ipython",
    "version": 3
   },
   "file_extension": ".py",
   "mimetype": "text/x-python",
   "name": "python",
   "nbconvert_exporter": "python",
   "pygments_lexer": "ipython3",
   "version": "3.9.6"
  },
  "vscode": {
   "interpreter": {
    "hash": "551ffafacf1c435d455694253e8083a24e9824fcef8ea36e6955e47cea1a95b4"
   }
  }
 },
 "nbformat": 4,
 "nbformat_minor": 4
}
